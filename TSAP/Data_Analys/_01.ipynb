{
 "cells": [
  {
   "cell_type": "markdown",
   "id": "7be8d154",
   "metadata": {},
   "source": [
    "# Постановка задачи:"
   ]
  },
  {
   "cell_type": "markdown",
   "id": "900ea60b",
   "metadata": {},
   "source": [
    "Необходимо провести анализ данных истории торгов, сформировать отчёт на основании этих данных. На гитхабе задача сформулирована следующим образом: \"1. Хотел бы написать скрипт на пайтоне - создание модели. Поработать со статистикой торговли с биржи. анализ полученного датасета, сбор данных ><\""
   ]
  },
  {
   "cell_type": "markdown",
   "id": "b92cd80b",
   "metadata": {},
   "source": [
    "Решение задачи бинарной классификации. Данные разделены на два класса, необходимо обучить модель определять принадлежность произвольного объекта (из рассматриваемого множества) к одному из них. На выходе алгоритм должен выдавать либо метку одного из двух классов, либо вероятности принадлежности рассматриваемого объекта к каждому из них. Целевая переменная - тип сделки. `BUY` или `SELL`\n",
    "\n",
    "Решить с помощью \n",
    "- линейной регрессии \n",
    "- деревьев решений"
   ]
  },
  {
   "cell_type": "markdown",
   "id": "b621155b",
   "metadata": {},
   "source": [
    "### Метрики качества\n",
    "- Confusion matrix (матрица ошибок)\n",
    "- Accuracy (доля правильных ответов)\n",
    "- Precision (точность) & Recall (полнота)\n",
    "- F-score (F-мера, гармоническое среднее)\n",
    "- PR-кривая\n",
    "- ROC-кривая"
   ]
  },
  {
   "cell_type": "markdown",
   "id": "fc2a1c0c",
   "metadata": {},
   "source": [
    "# Датасет:"
   ]
  },
  {
   "cell_type": "markdown",
   "id": "9eb3514c",
   "metadata": {},
   "source": [
    "Датасет скачивается с сайта EXMO.ME. В профиле есть возможность скачать историю торгов в формате __.csv__. Это будет являться исходным датасетом, с которым предстоит работать. "
   ]
  },
  {
   "cell_type": "markdown",
   "id": "e3746fb8",
   "metadata": {},
   "source": [
    "#### Описание датасета:"
   ]
  },
  {
   "cell_type": "markdown",
   "id": "20d52833",
   "metadata": {},
   "source": [
    "10 столбцов, 9800 строк"
   ]
  },
  {
   "cell_type": "markdown",
   "id": "a6ec166c",
   "metadata": {},
   "source": [
    "1. Дата/время  - __время когда произошла сделка__\n",
    "\n",
    "2. Trade ID - __идентификационный номер сделки__\n",
    "\n",
    "3. Тип - __тип сделки. всего 2 типа сделок: продажа и покупка__\n",
    "\n",
    "4. Валютная пара  - __название валютной пары в которой произошла сделка. На бирже около 130 валютных пар__\n",
    "\n",
    "5. Количество - __количество купленной или проданной валюты__\n",
    "\n",
    "6. Цена - __цена по которой произошла сделка__\n",
    "\n",
    "7. Сумма - __общая сумма сделки__\n",
    "\n",
    "8. Тип комиссии - __2 типа комиссий: maker, taker__\n",
    "\n",
    "9. Размер комиссии - __общая сумма коммиссии за сделку__\n",
    "\n",
    "10. Комиссия % - __процентная ставка комиссии__ "
   ]
  },
  {
   "cell_type": "markdown",
   "id": "0ecd2cfa",
   "metadata": {},
   "source": [
    "# Загрузка данных:\n",
    "\n",
    "создаю переменную - объект в которую считываю скаченный с сайта файл __.csv__, который предварительно поместил в ту же папку, в которой создал юпитерноутбук. Переменная является датафреймом."
   ]
  },
  {
   "cell_type": "code",
   "execution_count": 2,
   "id": "ee24ab00",
   "metadata": {},
   "outputs": [
    {
     "data": {
      "text/html": [
       "<div>\n",
       "<style scoped>\n",
       "    .dataframe tbody tr th:only-of-type {\n",
       "        vertical-align: middle;\n",
       "    }\n",
       "\n",
       "    .dataframe tbody tr th {\n",
       "        vertical-align: top;\n",
       "    }\n",
       "\n",
       "    .dataframe thead th {\n",
       "        text-align: right;\n",
       "    }\n",
       "</style>\n",
       "<table border=\"1\" class=\"dataframe\">\n",
       "  <thead>\n",
       "    <tr style=\"text-align: right;\">\n",
       "      <th></th>\n",
       "      <th>Дата/время</th>\n",
       "      <th>Trade ID</th>\n",
       "      <th>Тип</th>\n",
       "      <th>Валютная пара</th>\n",
       "      <th>Количество</th>\n",
       "      <th>Цена</th>\n",
       "      <th>Сумма</th>\n",
       "      <th>Тип комиссии</th>\n",
       "      <th>Размер комиссии</th>\n",
       "      <th>Комиссия %</th>\n",
       "    </tr>\n",
       "  </thead>\n",
       "  <tbody>\n",
       "    <tr>\n",
       "      <th>0</th>\n",
       "      <td>08.02.2023 16:44</td>\n",
       "      <td>455142695</td>\n",
       "      <td>buy</td>\n",
       "      <td>ROOBEE_USDT</td>\n",
       "      <td>1916.666667</td>\n",
       "      <td>0.001200</td>\n",
       "      <td>2.300000</td>\n",
       "      <td>maker</td>\n",
       "      <td>1.916667</td>\n",
       "      <td>0.1%</td>\n",
       "    </tr>\n",
       "    <tr>\n",
       "      <th>1</th>\n",
       "      <td>08.02.2023 16:30</td>\n",
       "      <td>455139957</td>\n",
       "      <td>buy</td>\n",
       "      <td>ROOBEE_USDT</td>\n",
       "      <td>1561.538462</td>\n",
       "      <td>0.001300</td>\n",
       "      <td>2.030000</td>\n",
       "      <td>maker</td>\n",
       "      <td>1.561538</td>\n",
       "      <td>0.1%</td>\n",
       "    </tr>\n",
       "    <tr>\n",
       "      <th>2</th>\n",
       "      <td>08.02.2023 05:00</td>\n",
       "      <td>455021596</td>\n",
       "      <td>sell</td>\n",
       "      <td>XTZ_RUB</td>\n",
       "      <td>2.015574</td>\n",
       "      <td>90.000000</td>\n",
       "      <td>181.401646</td>\n",
       "      <td>maker</td>\n",
       "      <td>0.544205</td>\n",
       "      <td>0.3%</td>\n",
       "    </tr>\n",
       "    <tr>\n",
       "      <th>3</th>\n",
       "      <td>08.02.2023 05:00</td>\n",
       "      <td>455021556</td>\n",
       "      <td>sell</td>\n",
       "      <td>XTZ_RUB</td>\n",
       "      <td>1.340000</td>\n",
       "      <td>89.000000</td>\n",
       "      <td>119.260000</td>\n",
       "      <td>maker</td>\n",
       "      <td>0.357780</td>\n",
       "      <td>0.3%</td>\n",
       "    </tr>\n",
       "    <tr>\n",
       "      <th>4</th>\n",
       "      <td>07.02.2023 22:47</td>\n",
       "      <td>454961186</td>\n",
       "      <td>sell</td>\n",
       "      <td>WXT_USDT</td>\n",
       "      <td>3247.579434</td>\n",
       "      <td>0.005000</td>\n",
       "      <td>16.237897</td>\n",
       "      <td>maker</td>\n",
       "      <td>0.016238</td>\n",
       "      <td>0.1%</td>\n",
       "    </tr>\n",
       "    <tr>\n",
       "      <th>...</th>\n",
       "      <td>...</td>\n",
       "      <td>...</td>\n",
       "      <td>...</td>\n",
       "      <td>...</td>\n",
       "      <td>...</td>\n",
       "      <td>...</td>\n",
       "      <td>...</td>\n",
       "      <td>...</td>\n",
       "      <td>...</td>\n",
       "      <td>...</td>\n",
       "    </tr>\n",
       "    <tr>\n",
       "      <th>10000</th>\n",
       "      <td>27.10.2021 11:54</td>\n",
       "      <td>324915052</td>\n",
       "      <td>buy</td>\n",
       "      <td>BTT_RUB</td>\n",
       "      <td>284.542819</td>\n",
       "      <td>0.250000</td>\n",
       "      <td>71.135705</td>\n",
       "      <td>maker</td>\n",
       "      <td>0.853628</td>\n",
       "      <td>0.3%</td>\n",
       "    </tr>\n",
       "    <tr>\n",
       "      <th>10001</th>\n",
       "      <td>27.10.2021 11:54</td>\n",
       "      <td>324915049</td>\n",
       "      <td>buy</td>\n",
       "      <td>BTT_RUB</td>\n",
       "      <td>314.485477</td>\n",
       "      <td>0.248200</td>\n",
       "      <td>78.055229</td>\n",
       "      <td>taker</td>\n",
       "      <td>0.943456</td>\n",
       "      <td>0.3%</td>\n",
       "    </tr>\n",
       "    <tr>\n",
       "      <th>10002</th>\n",
       "      <td>27.10.2021 11:54</td>\n",
       "      <td>324915048</td>\n",
       "      <td>buy</td>\n",
       "      <td>BTT_RUB</td>\n",
       "      <td>315.695899</td>\n",
       "      <td>0.247581</td>\n",
       "      <td>78.160256</td>\n",
       "      <td>taker</td>\n",
       "      <td>0.947088</td>\n",
       "      <td>0.3%</td>\n",
       "    </tr>\n",
       "    <tr>\n",
       "      <th>10003</th>\n",
       "      <td>27.10.2021 11:54</td>\n",
       "      <td>324915047</td>\n",
       "      <td>buy</td>\n",
       "      <td>BTT_RUB</td>\n",
       "      <td>480.608526</td>\n",
       "      <td>0.247581</td>\n",
       "      <td>118.989453</td>\n",
       "      <td>taker</td>\n",
       "      <td>1.441826</td>\n",
       "      <td>0.3%</td>\n",
       "    </tr>\n",
       "    <tr>\n",
       "      <th>10004</th>\n",
       "      <td>27.10.2021 11:47</td>\n",
       "      <td>324913488</td>\n",
       "      <td>sell</td>\n",
       "      <td>USDT_GBP</td>\n",
       "      <td>11.570000</td>\n",
       "      <td>0.730000</td>\n",
       "      <td>8.446100</td>\n",
       "      <td>maker</td>\n",
       "      <td>0.025338</td>\n",
       "      <td>0.3%</td>\n",
       "    </tr>\n",
       "  </tbody>\n",
       "</table>\n",
       "<p>10005 rows × 10 columns</p>\n",
       "</div>"
      ],
      "text/plain": [
       "             Дата/время   Trade ID   Тип Валютная пара   Количество  \\\n",
       "0      08.02.2023 16:44  455142695   buy   ROOBEE_USDT  1916.666667   \n",
       "1      08.02.2023 16:30  455139957   buy   ROOBEE_USDT  1561.538462   \n",
       "2      08.02.2023 05:00  455021596  sell       XTZ_RUB     2.015574   \n",
       "3      08.02.2023 05:00  455021556  sell       XTZ_RUB     1.340000   \n",
       "4      07.02.2023 22:47  454961186  sell      WXT_USDT  3247.579434   \n",
       "...                 ...        ...   ...           ...          ...   \n",
       "10000  27.10.2021 11:54  324915052   buy       BTT_RUB   284.542819   \n",
       "10001  27.10.2021 11:54  324915049   buy       BTT_RUB   314.485477   \n",
       "10002  27.10.2021 11:54  324915048   buy       BTT_RUB   315.695899   \n",
       "10003  27.10.2021 11:54  324915047   buy       BTT_RUB   480.608526   \n",
       "10004  27.10.2021 11:47  324913488  sell      USDT_GBP    11.570000   \n",
       "\n",
       "            Цена       Сумма Тип комиссии  Размер комиссии Комиссия %  \n",
       "0       0.001200    2.300000        maker         1.916667       0.1%  \n",
       "1       0.001300    2.030000        maker         1.561538       0.1%  \n",
       "2      90.000000  181.401646        maker         0.544205       0.3%  \n",
       "3      89.000000  119.260000        maker         0.357780       0.3%  \n",
       "4       0.005000   16.237897        maker         0.016238       0.1%  \n",
       "...          ...         ...          ...              ...        ...  \n",
       "10000   0.250000   71.135705        maker         0.853628       0.3%  \n",
       "10001   0.248200   78.055229        taker         0.943456       0.3%  \n",
       "10002   0.247581   78.160256        taker         0.947088       0.3%  \n",
       "10003   0.247581  118.989453        taker         1.441826       0.3%  \n",
       "10004   0.730000    8.446100        maker         0.025338       0.3%  \n",
       "\n",
       "[10005 rows x 10 columns]"
      ]
     },
     "execution_count": 2,
     "metadata": {},
     "output_type": "execute_result"
    }
   ],
   "source": [
    "df = pd.read_csv('trade-history-2023-02-08.csv')\n",
    "df"
   ]
  },
  {
   "cell_type": "markdown",
   "id": "a9cc4f4e",
   "metadata": {},
   "source": [
    "# Установка библиотек и модулей:"
   ]
  },
  {
   "cell_type": "code",
   "execution_count": 51,
   "id": "c7509fe3",
   "metadata": {},
   "outputs": [
    {
     "name": "stdout",
     "output_type": "stream",
     "text": [
      "Requirement already satisfied: pandas in c:\\users\\777\\appdata\\local\\programs\\python\\python38\\lib\\site-packages (1.4.1)\n",
      "Requirement already satisfied: pytz>=2020.1 in c:\\users\\777\\appdata\\local\\programs\\python\\python38\\lib\\site-packages (from pandas) (2021.3)\n",
      "Requirement already satisfied: numpy>=1.18.5 in c:\\users\\777\\appdata\\local\\programs\\python\\python38\\lib\\site-packages (from pandas) (1.22.2)\n",
      "Requirement already satisfied: python-dateutil>=2.8.1 in c:\\users\\777\\appdata\\local\\programs\\python\\python38\\lib\\site-packages (from pandas) (2.8.2)\n",
      "Requirement already satisfied: six>=1.5 in c:\\users\\777\\appdata\\local\\programs\\python\\python38\\lib\\site-packages (from python-dateutil>=2.8.1->pandas) (1.16.0)\n"
     ]
    },
    {
     "name": "stderr",
     "output_type": "stream",
     "text": [
      "WARNING: There was an error checking the latest version of pip.\n"
     ]
    }
   ],
   "source": [
    "! pip install pandas"
   ]
  },
  {
   "cell_type": "code",
   "execution_count": 52,
   "id": "aa1aa6e2",
   "metadata": {},
   "outputs": [
    {
     "name": "stdout",
     "output_type": "stream",
     "text": [
      "Requirement already satisfied: numpy in c:\\users\\777\\appdata\\local\\programs\\python\\python38\\lib\\site-packages (1.22.2)\n"
     ]
    },
    {
     "name": "stderr",
     "output_type": "stream",
     "text": [
      "WARNING: There was an error checking the latest version of pip.\n"
     ]
    }
   ],
   "source": [
    "! pip install numpy"
   ]
  },
  {
   "cell_type": "code",
   "execution_count": 53,
   "id": "67ec7016",
   "metadata": {},
   "outputs": [
    {
     "name": "stderr",
     "output_type": "stream",
     "text": [
      "WARNING: There was an error checking the latest version of pip.\n"
     ]
    },
    {
     "name": "stdout",
     "output_type": "stream",
     "text": [
      "Requirement already satisfied: seaborn in c:\\users\\777\\appdata\\local\\programs\\python\\python38\\lib\\site-packages (0.11.2)\n",
      "Requirement already satisfied: numpy>=1.15 in c:\\users\\777\\appdata\\local\\programs\\python\\python38\\lib\\site-packages (from seaborn) (1.22.2)\n",
      "Requirement already satisfied: scipy>=1.0 in c:\\users\\777\\appdata\\local\\programs\\python\\python38\\lib\\site-packages (from seaborn) (1.8.0)\n",
      "Requirement already satisfied: pandas>=0.23 in c:\\users\\777\\appdata\\local\\programs\\python\\python38\\lib\\site-packages (from seaborn) (1.4.1)\n",
      "Requirement already satisfied: matplotlib>=2.2 in c:\\users\\777\\appdata\\local\\programs\\python\\python38\\lib\\site-packages (from seaborn) (3.5.1)\n",
      "Requirement already satisfied: python-dateutil>=2.7 in c:\\users\\777\\appdata\\local\\programs\\python\\python38\\lib\\site-packages (from matplotlib>=2.2->seaborn) (2.8.2)\n",
      "Requirement already satisfied: packaging>=20.0 in c:\\users\\777\\appdata\\local\\programs\\python\\python38\\lib\\site-packages (from matplotlib>=2.2->seaborn) (21.3)\n",
      "Requirement already satisfied: cycler>=0.10 in c:\\users\\777\\appdata\\local\\programs\\python\\python38\\lib\\site-packages (from matplotlib>=2.2->seaborn) (0.11.0)\n",
      "Requirement already satisfied: pyparsing>=2.2.1 in c:\\users\\777\\appdata\\local\\programs\\python\\python38\\lib\\site-packages (from matplotlib>=2.2->seaborn) (3.0.7)\n",
      "Requirement already satisfied: fonttools>=4.22.0 in c:\\users\\777\\appdata\\local\\programs\\python\\python38\\lib\\site-packages (from matplotlib>=2.2->seaborn) (4.29.1)\n",
      "Requirement already satisfied: pillow>=6.2.0 in c:\\users\\777\\appdata\\local\\programs\\python\\python38\\lib\\site-packages (from matplotlib>=2.2->seaborn) (9.0.1)\n",
      "Requirement already satisfied: kiwisolver>=1.0.1 in c:\\users\\777\\appdata\\local\\programs\\python\\python38\\lib\\site-packages (from matplotlib>=2.2->seaborn) (1.3.2)\n",
      "Requirement already satisfied: pytz>=2020.1 in c:\\users\\777\\appdata\\local\\programs\\python\\python38\\lib\\site-packages (from pandas>=0.23->seaborn) (2021.3)\n",
      "Requirement already satisfied: six>=1.5 in c:\\users\\777\\appdata\\local\\programs\\python\\python38\\lib\\site-packages (from python-dateutil>=2.7->matplotlib>=2.2->seaborn) (1.16.0)\n"
     ]
    }
   ],
   "source": [
    "! pip install seaborn"
   ]
  },
  {
   "cell_type": "code",
   "execution_count": 55,
   "id": "2f4c4570",
   "metadata": {},
   "outputs": [
    {
     "name": "stdout",
     "output_type": "stream",
     "text": [
      "Requirement already satisfied: matplotlib in c:\\users\\777\\appdata\\local\\programs\\python\\python38\\lib\\site-packages (3.5.1)\n",
      "Requirement already satisfied: fonttools>=4.22.0 in c:\\users\\777\\appdata\\local\\programs\\python\\python38\\lib\\site-packages (from matplotlib) (4.29.1)\n",
      "Requirement already satisfied: pillow>=6.2.0 in c:\\users\\777\\appdata\\local\\programs\\python\\python38\\lib\\site-packages (from matplotlib) (9.0.1)\n",
      "Requirement already satisfied: numpy>=1.17 in c:\\users\\777\\appdata\\local\\programs\\python\\python38\\lib\\site-packages (from matplotlib) (1.22.2)\n",
      "Requirement already satisfied: pyparsing>=2.2.1 in c:\\users\\777\\appdata\\local\\programs\\python\\python38\\lib\\site-packages (from matplotlib) (3.0.7)\n",
      "Requirement already satisfied: cycler>=0.10 in c:\\users\\777\\appdata\\local\\programs\\python\\python38\\lib\\site-packages (from matplotlib) (0.11.0)\n",
      "Requirement already satisfied: packaging>=20.0 in c:\\users\\777\\appdata\\local\\programs\\python\\python38\\lib\\site-packages (from matplotlib) (21.3)\n",
      "Requirement already satisfied: python-dateutil>=2.7 in c:\\users\\777\\appdata\\local\\programs\\python\\python38\\lib\\site-packages (from matplotlib) (2.8.2)\n",
      "Requirement already satisfied: kiwisolver>=1.0.1 in c:\\users\\777\\appdata\\local\\programs\\python\\python38\\lib\\site-packages (from matplotlib) (1.3.2)\n",
      "Requirement already satisfied: six>=1.5 in c:\\users\\777\\appdata\\local\\programs\\python\\python38\\lib\\site-packages (from python-dateutil>=2.7->matplotlib) (1.16.0)\n"
     ]
    },
    {
     "name": "stderr",
     "output_type": "stream",
     "text": [
      "WARNING: There was an error checking the latest version of pip.\n"
     ]
    }
   ],
   "source": [
    "! pip install matplotlib"
   ]
  },
  {
   "cell_type": "markdown",
   "id": "de902003",
   "metadata": {},
   "source": [
    "# Загрузка библиотек и модулей:"
   ]
  },
  {
   "cell_type": "code",
   "execution_count": 43,
   "id": "8558464c",
   "metadata": {},
   "outputs": [],
   "source": [
    "import pandas as pd\n",
    "import numpy as np\n",
    "import datetime\n",
    "import seaborn as sns\n",
    "import matplotlib.pyplot as plt\n",
    "import sys\n",
    "import warnings\n",
    "if not sys.warnoptions:\n",
    "       warnings.simplefilter(\"ignore\")\n",
    "        \n",
    "from scipy.stats import shapiro\n",
    "from scipy.stats import probplot\n",
    "from scipy.stats import ttest_ind, mannwhitneyu\n",
    "from scipy.stats import chi2_contingency\n",
    "# from statsmodels.stats.weightstats import zconfint\n",
    "\n",
    "import seaborn as sns\n",
    "from matplotlib import pyplot as plt\n",
    "%matplotlib inline"
   ]
  },
  {
   "cell_type": "markdown",
   "id": "30d84f87",
   "metadata": {},
   "source": [
    "# Функции для более быстрой и удобной работы с датасетом:\n",
    "#####  Объединение датасетов\n",
    "Так как скаченная с сайта история торгов содержит всего 10000 значений, то возникает необходимость для создания полной картины по торгам объединить 2 датасета с более ранней историей торгов и с последней скаченной истории торгов. Тогда получится максимальное значение строк и более полная история торгов. Причём надо будет избавиться от дубликатов данных, которые могут оказаться в двух таблицах и после объединения продублируются."
   ]
  },
  {
   "cell_type": "code",
   "execution_count": 2,
   "id": "87957bcc",
   "metadata": {},
   "outputs": [],
   "source": [
    "def big_dataset(dataframe_first, dataframe_last):\n",
    "    \n",
    "    big_df = pd.concat([dataframe_first, dataframe_last], ignore_index=True)\n",
    "    big_df_uniq = big_df.drop_duplicates()\n",
    "    return big_df_uniq"
   ]
  },
  {
   "cell_type": "code",
   "execution_count": 4,
   "id": "60bc2f26",
   "metadata": {},
   "outputs": [
    {
     "name": "stdout",
     "output_type": "stream",
     "text": [
      "9764 10004 19087\n",
      "9764 19087 20191\n"
     ]
    }
   ],
   "source": [
    "df_first = pd.read_csv('trade-history-2021-11-07.csv')\n",
    "df_middle = pd.read_csv('trade-history-2023-01-21.csv')\n",
    "df_last = pd.read_csv('trade-history-2023-05-06.csv')\n",
    "\n",
    "big_df_1 = pd.concat([df_middle, df_first], ignore_index=True).drop_duplicates()\n",
    "print(len(df_first), len(df_middle), len(big_df_1))\n",
    "\n",
    "big_df = pd.concat([df_last, big_df_1], ignore_index=True).drop_duplicates()\n",
    "print(len(df_first), len(big_df_1), len(big_df))\n"
   ]
  },
  {
   "cell_type": "markdown",
   "id": "de7fdab6",
   "metadata": {},
   "source": [
    "##### Определение даты  самой ранней сделки и самой последней сделки. Подсчёт временного периода торговли"
   ]
  },
  {
   "cell_type": "code",
   "execution_count": 5,
   "id": "b4b2335e",
   "metadata": {},
   "outputs": [],
   "source": [
    "def time_period(dataframe):\n",
    "    all_dates = dataframe['Дата/время'].tolist()\n",
    "    start = all_dates[-1]\n",
    "    end = all_dates[0]\n",
    "    start_dtm = datetime.datetime.strptime(start, '%d.%m.%Y %H:%M')\n",
    "    end_dtm = datetime.datetime.strptime(end, '%d.%m.%Y %H:%M')\n",
    "    print(f'\\nПроизведён анализ временного периода торговли: с {start} по {end}'\n",
    "        \n",
    "\n",
    "  f'\\nчто составляет {end_dtm - start_dtm}')\n",
    "    "
   ]
  },
  {
   "cell_type": "code",
   "execution_count": 6,
   "id": "751199ef",
   "metadata": {},
   "outputs": [
    {
     "name": "stdout",
     "output_type": "stream",
     "text": [
      "\n",
      "Произведён анализ временного периода торговли: с 14.04.2021 06:57 по 06.05.2023 08:34\n",
      "что составляет 752 days, 1:37:00\n"
     ]
    }
   ],
   "source": [
    "time_period(big_df)"
   ]
  },
  {
   "cell_type": "markdown",
   "id": "13aca8d3",
   "metadata": {},
   "source": [
    "##### Переформатирование колонки время сделки в дататайм"
   ]
  },
  {
   "cell_type": "code",
   "execution_count": 7,
   "id": "8f677e54",
   "metadata": {},
   "outputs": [],
   "source": [
    "def to_datetime(dataframe):\n",
    "    dataframe['Дата/время'] = pd.to_datetime(dataframe['Дата/время'], format='%d.%m.%Y %H:%M')\n",
    "    return dataframe"
   ]
  },
  {
   "cell_type": "code",
   "execution_count": 8,
   "id": "0b264c4f",
   "metadata": {
    "scrolled": true
   },
   "outputs": [
    {
     "data": {
      "text/plain": [
       "dtype('O')"
      ]
     },
     "execution_count": 8,
     "metadata": {},
     "output_type": "execute_result"
    }
   ],
   "source": [
    "big_df['Дата/время'].dtype\n"
   ]
  },
  {
   "cell_type": "markdown",
   "id": "e3d7cf0c",
   "metadata": {},
   "source": [
    "##### Проверка при объединении датасетов на дубликаты"
   ]
  },
  {
   "cell_type": "code",
   "execution_count": 9,
   "id": "ff4569f1",
   "metadata": {},
   "outputs": [],
   "source": [
    "def duplicates(dataframe_first, dataframe_last):\n",
    "    big_df = pd.concat([dataframe_first, dataframe_last], ignore_index=True).drop_duplicates()\n",
    "    if len(big_df) == len(dataframe_first) + len(dataframe_last):\n",
    "        print('Полное объединение датасетов. Дубликатов нет.\\n'\n",
    "              'Следует проверить последние и первые даты в датасетах\\n'\n",
    "              'возможно есть промежуточный датасет ')\n",
    "    else:\n",
    "        print('Объединение датасетов произошло. Число дубликатов:', len(dataframe_first) + len(dataframe_last) - len(big_df))\n",
    "        "
   ]
  },
  {
   "cell_type": "code",
   "execution_count": 11,
   "id": "5e785f2b",
   "metadata": {},
   "outputs": [
    {
     "name": "stdout",
     "output_type": "stream",
     "text": [
      "Объединение датасетов произошло. Число дубликатов: 9764\n"
     ]
    }
   ],
   "source": [
    "duplicates(df_first, big_df_1)"
   ]
  },
  {
   "cell_type": "markdown",
   "id": "d306d13d",
   "metadata": {},
   "source": [
    "##### Вывод названий всех торговых пар в которых велась торговля и показывает число сделок в каждой торговой паре"
   ]
  },
  {
   "cell_type": "code",
   "execution_count": 12,
   "id": "1a737a96",
   "metadata": {},
   "outputs": [],
   "source": [
    "def all_pairs_count(dataframe):\n",
    "    df_all_pairs = dataframe['Валютная пара'].value_counts()\n",
    "    return df_all_pairs"
   ]
  },
  {
   "cell_type": "code",
   "execution_count": 13,
   "id": "5256af8f",
   "metadata": {},
   "outputs": [
    {
     "data": {
      "text/plain": [
       "EXM_RUB      2447\n",
       "USDT_GBP     2118\n",
       "WXT_USDT     1442\n",
       "SMART_EUR    1301\n",
       "EXM_BTC      1251\n",
       "             ... \n",
       "BTC_USDX        1\n",
       "ONT_BTC         1\n",
       "VITAE_BTC       1\n",
       "ALGO_BTC        1\n",
       "BTC_RUB         1\n",
       "Name: Валютная пара, Length: 63, dtype: int64"
      ]
     },
     "execution_count": 13,
     "metadata": {},
     "output_type": "execute_result"
    }
   ],
   "source": [
    "all_pairs_count(big_df)"
   ]
  },
  {
   "cell_type": "code",
   "execution_count": 14,
   "id": "71395528",
   "metadata": {},
   "outputs": [
    {
     "data": {
      "text/plain": [
       "EXM_RUB      2447\n",
       "USDT_GBP     2118\n",
       "WXT_USDT     1442\n",
       "SMART_EUR    1301\n",
       "EXM_BTC      1251\n",
       "             ... \n",
       "BTC_USDX        1\n",
       "ONT_BTC         1\n",
       "VITAE_BTC       1\n",
       "ALGO_BTC        1\n",
       "BTC_RUB         1\n",
       "Name: Валютная пара, Length: 63, dtype: int64"
      ]
     },
     "execution_count": 14,
     "metadata": {},
     "output_type": "execute_result"
    }
   ],
   "source": [
    "all_pairs_count(big_df)"
   ]
  },
  {
   "cell_type": "markdown",
   "id": "61d63b21",
   "metadata": {},
   "source": [
    "##### Функция возвращает список всех торговых пар"
   ]
  },
  {
   "cell_type": "code",
   "execution_count": 15,
   "id": "a1d7c7d3",
   "metadata": {},
   "outputs": [],
   "source": [
    "def all_pairs_list(dataframe):\n",
    "    pairs_list = dataframe['Валютная пара'].unique().tolist()\n",
    "    return pairs_list"
   ]
  },
  {
   "cell_type": "code",
   "execution_count": 16,
   "id": "6076e49b",
   "metadata": {},
   "outputs": [
    {
     "data": {
      "text/plain": [
       "['EXM_BTC',\n",
       " 'EXM_ETH',\n",
       " 'XRP_ETH',\n",
       " 'XTZ_RUB',\n",
       " 'DOGE_RUB',\n",
       " 'DOGE_BTC',\n",
       " 'WXT_BTC',\n",
       " 'TON_BTC',\n",
       " 'DAI_RUB',\n",
       " 'WXT_USDT',\n",
       " 'DOGE_USDT',\n",
       " 'XLM_RUB',\n",
       " 'PRQ_USDT',\n",
       " 'ROOBEE_USDT',\n",
       " 'DAI_ETH',\n",
       " 'SHIB_RUB',\n",
       " 'EXM_USDT',\n",
       " 'CRON_ETH',\n",
       " 'CRON_BTC',\n",
       " 'CHZ_BTC',\n",
       " 'USDT_KZT',\n",
       " 'USDT_RUB',\n",
       " 'DOGE_EUR',\n",
       " 'USDT_EUR',\n",
       " 'ROOBEE_BTC',\n",
       " 'ETH_GBP',\n",
       " 'SMART_BTC',\n",
       " 'DOGE_GBP',\n",
       " 'SMART_EUR',\n",
       " 'SMART_RUB',\n",
       " 'XRP_GBP',\n",
       " 'BTC_USDX',\n",
       " 'XRP_RUB',\n",
       " 'ALGO_BTC',\n",
       " 'TRX_BTC',\n",
       " 'SHIB_UAH',\n",
       " 'CRON_USDT',\n",
       " 'EXM_RUB',\n",
       " 'TRX_UAH',\n",
       " 'ALGO_RUB',\n",
       " 'XRP_USD',\n",
       " 'SHIB_USDT',\n",
       " 'MNC_ETH',\n",
       " 'TRX_RUB',\n",
       " 'ETC_RUB',\n",
       " 'MNC_BTC',\n",
       " 'USDT_UAH',\n",
       " 'HB_BTC',\n",
       " 'USDT_GBP',\n",
       " 'TONCOIN_BTC',\n",
       " 'HP_BTC',\n",
       " 'BTT_RUB',\n",
       " 'BTT_BTC',\n",
       " 'SMART_USD',\n",
       " 'VITAE_BTC',\n",
       " 'VITAE_ETH',\n",
       " 'XRP_UAH',\n",
       " 'XRP_EUR',\n",
       " 'ONT_BTC',\n",
       " 'ONG_BTC',\n",
       " 'XRP_USDT',\n",
       " 'XEM_BTC',\n",
       " 'BTC_RUB']"
      ]
     },
     "execution_count": 16,
     "metadata": {},
     "output_type": "execute_result"
    }
   ],
   "source": [
    "all_pairs_list(big_df)"
   ]
  },
  {
   "cell_type": "markdown",
   "id": "ae1487e1",
   "metadata": {},
   "source": [
    "##### Выборка датасета по конкретной валютной паре"
   ]
  },
  {
   "cell_type": "code",
   "execution_count": 17,
   "id": "8bd47621",
   "metadata": {},
   "outputs": [],
   "source": [
    "def df_curr_pair(dataframe, current_pair):\n",
    "    current = str(current_pair.upper())\n",
    "    df_curpair = dataframe.loc[(dataframe['Валютная пара'] == current)]\n",
    "    return df_curpair"
   ]
  },
  {
   "cell_type": "code",
   "execution_count": 18,
   "id": "2acf776a",
   "metadata": {},
   "outputs": [
    {
     "data": {
      "text/html": [
       "<div>\n",
       "<style scoped>\n",
       "    .dataframe tbody tr th:only-of-type {\n",
       "        vertical-align: middle;\n",
       "    }\n",
       "\n",
       "    .dataframe tbody tr th {\n",
       "        vertical-align: top;\n",
       "    }\n",
       "\n",
       "    .dataframe thead th {\n",
       "        text-align: right;\n",
       "    }\n",
       "</style>\n",
       "<table border=\"1\" class=\"dataframe\">\n",
       "  <thead>\n",
       "    <tr style=\"text-align: right;\">\n",
       "      <th></th>\n",
       "      <th>Дата/время</th>\n",
       "      <th>Trade ID</th>\n",
       "      <th>Тип</th>\n",
       "      <th>Валютная пара</th>\n",
       "      <th>Количество</th>\n",
       "      <th>Цена</th>\n",
       "      <th>Сумма</th>\n",
       "      <th>Тип комиссии</th>\n",
       "      <th>Размер комиссии</th>\n",
       "      <th>Комиссия %</th>\n",
       "    </tr>\n",
       "  </thead>\n",
       "  <tbody>\n",
       "    <tr>\n",
       "      <th>1</th>\n",
       "      <td>06.05.2023 08:01</td>\n",
       "      <td>476346355</td>\n",
       "      <td>sell</td>\n",
       "      <td>EXM_ETH</td>\n",
       "      <td>0.008229</td>\n",
       "      <td>0.000007</td>\n",
       "      <td>6.000000e-08</td>\n",
       "      <td>maker</td>\n",
       "      <td>0.000000e+00</td>\n",
       "      <td>0.1%</td>\n",
       "    </tr>\n",
       "    <tr>\n",
       "      <th>2</th>\n",
       "      <td>06.05.2023 08:01</td>\n",
       "      <td>476346354</td>\n",
       "      <td>sell</td>\n",
       "      <td>EXM_ETH</td>\n",
       "      <td>576.058184</td>\n",
       "      <td>0.000007</td>\n",
       "      <td>4.205220e-03</td>\n",
       "      <td>maker</td>\n",
       "      <td>4.200000e-06</td>\n",
       "      <td>0.1%</td>\n",
       "    </tr>\n",
       "    <tr>\n",
       "      <th>3</th>\n",
       "      <td>06.05.2023 06:25</td>\n",
       "      <td>476331181</td>\n",
       "      <td>sell</td>\n",
       "      <td>EXM_ETH</td>\n",
       "      <td>53.889276</td>\n",
       "      <td>0.000007</td>\n",
       "      <td>3.880000e-04</td>\n",
       "      <td>maker</td>\n",
       "      <td>3.800000e-07</td>\n",
       "      <td>0.1%</td>\n",
       "    </tr>\n",
       "    <tr>\n",
       "      <th>4</th>\n",
       "      <td>06.05.2023 06:24</td>\n",
       "      <td>476331039</td>\n",
       "      <td>sell</td>\n",
       "      <td>EXM_ETH</td>\n",
       "      <td>141.208914</td>\n",
       "      <td>0.000007</td>\n",
       "      <td>1.016700e-03</td>\n",
       "      <td>maker</td>\n",
       "      <td>1.010000e-06</td>\n",
       "      <td>0.1%</td>\n",
       "    </tr>\n",
       "    <tr>\n",
       "      <th>5</th>\n",
       "      <td>06.05.2023 06:24</td>\n",
       "      <td>476331038</td>\n",
       "      <td>sell</td>\n",
       "      <td>EXM_ETH</td>\n",
       "      <td>141.184908</td>\n",
       "      <td>0.000007</td>\n",
       "      <td>1.016530e-03</td>\n",
       "      <td>maker</td>\n",
       "      <td>1.010000e-06</td>\n",
       "      <td>0.1%</td>\n",
       "    </tr>\n",
       "    <tr>\n",
       "      <th>...</th>\n",
       "      <td>...</td>\n",
       "      <td>...</td>\n",
       "      <td>...</td>\n",
       "      <td>...</td>\n",
       "      <td>...</td>\n",
       "      <td>...</td>\n",
       "      <td>...</td>\n",
       "      <td>...</td>\n",
       "      <td>...</td>\n",
       "      <td>...</td>\n",
       "    </tr>\n",
       "    <tr>\n",
       "      <th>26155</th>\n",
       "      <td>06.06.2021 05:31</td>\n",
       "      <td>278025748</td>\n",
       "      <td>sell</td>\n",
       "      <td>EXM_ETH</td>\n",
       "      <td>225.792700</td>\n",
       "      <td>0.000030</td>\n",
       "      <td>6.773780e-03</td>\n",
       "      <td>maker</td>\n",
       "      <td>2.032000e-05</td>\n",
       "      <td>0.3%</td>\n",
       "    </tr>\n",
       "    <tr>\n",
       "      <th>26376</th>\n",
       "      <td>05.06.2021 14:27</td>\n",
       "      <td>277865686</td>\n",
       "      <td>sell</td>\n",
       "      <td>EXM_ETH</td>\n",
       "      <td>92.390657</td>\n",
       "      <td>0.000020</td>\n",
       "      <td>1.847810e-03</td>\n",
       "      <td>maker</td>\n",
       "      <td>5.540000e-06</td>\n",
       "      <td>0.3%</td>\n",
       "    </tr>\n",
       "    <tr>\n",
       "      <th>26380</th>\n",
       "      <td>05.06.2021 14:27</td>\n",
       "      <td>277865613</td>\n",
       "      <td>sell</td>\n",
       "      <td>EXM_ETH</td>\n",
       "      <td>569.620001</td>\n",
       "      <td>0.000020</td>\n",
       "      <td>1.139240e-02</td>\n",
       "      <td>maker</td>\n",
       "      <td>3.417000e-05</td>\n",
       "      <td>0.3%</td>\n",
       "    </tr>\n",
       "    <tr>\n",
       "      <th>26701</th>\n",
       "      <td>26.05.2021 23:30</td>\n",
       "      <td>274981680</td>\n",
       "      <td>buy</td>\n",
       "      <td>EXM_ETH</td>\n",
       "      <td>664.002667</td>\n",
       "      <td>0.000015</td>\n",
       "      <td>9.960030e-03</td>\n",
       "      <td>maker</td>\n",
       "      <td>1.992008e+00</td>\n",
       "      <td>0.3%</td>\n",
       "    </tr>\n",
       "    <tr>\n",
       "      <th>27610</th>\n",
       "      <td>05.05.2021 22:52</td>\n",
       "      <td>266024231</td>\n",
       "      <td>buy</td>\n",
       "      <td>EXM_ETH</td>\n",
       "      <td>225.598000</td>\n",
       "      <td>0.000020</td>\n",
       "      <td>4.511950e-03</td>\n",
       "      <td>maker</td>\n",
       "      <td>6.767940e-01</td>\n",
       "      <td>0.3%</td>\n",
       "    </tr>\n",
       "  </tbody>\n",
       "</table>\n",
       "<p>383 rows × 10 columns</p>\n",
       "</div>"
      ],
      "text/plain": [
       "             Дата/время   Trade ID   Тип Валютная пара  Количество      Цена  \\\n",
       "1      06.05.2023 08:01  476346355  sell       EXM_ETH    0.008229  0.000007   \n",
       "2      06.05.2023 08:01  476346354  sell       EXM_ETH  576.058184  0.000007   \n",
       "3      06.05.2023 06:25  476331181  sell       EXM_ETH   53.889276  0.000007   \n",
       "4      06.05.2023 06:24  476331039  sell       EXM_ETH  141.208914  0.000007   \n",
       "5      06.05.2023 06:24  476331038  sell       EXM_ETH  141.184908  0.000007   \n",
       "...                 ...        ...   ...           ...         ...       ...   \n",
       "26155  06.06.2021 05:31  278025748  sell       EXM_ETH  225.792700  0.000030   \n",
       "26376  05.06.2021 14:27  277865686  sell       EXM_ETH   92.390657  0.000020   \n",
       "26380  05.06.2021 14:27  277865613  sell       EXM_ETH  569.620001  0.000020   \n",
       "26701  26.05.2021 23:30  274981680   buy       EXM_ETH  664.002667  0.000015   \n",
       "27610  05.05.2021 22:52  266024231   buy       EXM_ETH  225.598000  0.000020   \n",
       "\n",
       "              Сумма Тип комиссии  Размер комиссии Комиссия %  \n",
       "1      6.000000e-08        maker     0.000000e+00       0.1%  \n",
       "2      4.205220e-03        maker     4.200000e-06       0.1%  \n",
       "3      3.880000e-04        maker     3.800000e-07       0.1%  \n",
       "4      1.016700e-03        maker     1.010000e-06       0.1%  \n",
       "5      1.016530e-03        maker     1.010000e-06       0.1%  \n",
       "...             ...          ...              ...        ...  \n",
       "26155  6.773780e-03        maker     2.032000e-05       0.3%  \n",
       "26376  1.847810e-03        maker     5.540000e-06       0.3%  \n",
       "26380  1.139240e-02        maker     3.417000e-05       0.3%  \n",
       "26701  9.960030e-03        maker     1.992008e+00       0.3%  \n",
       "27610  4.511950e-03        maker     6.767940e-01       0.3%  \n",
       "\n",
       "[383 rows x 10 columns]"
      ]
     },
     "execution_count": 18,
     "metadata": {},
     "output_type": "execute_result"
    }
   ],
   "source": [
    "df_cur_pair = df_curr_pair(big_df, 'EXM_ETH')\n",
    "df_cur_pair"
   ]
  },
  {
   "cell_type": "markdown",
   "id": "9c77c120",
   "metadata": {},
   "source": [
    "##### Подсчёт  Buy и Sell ордеров в датасете"
   ]
  },
  {
   "cell_type": "code",
   "execution_count": 19,
   "id": "20bbfbe7",
   "metadata": {},
   "outputs": [],
   "source": [
    "def buy_sell_count(dataframe):\n",
    "    return dataframe['Тип'].value_counts()"
   ]
  },
  {
   "cell_type": "code",
   "execution_count": 20,
   "id": "4e298a24",
   "metadata": {},
   "outputs": [
    {
     "data": {
      "text/plain": [
       "buy     204\n",
       "sell    179\n",
       "Name: Тип, dtype: int64"
      ]
     },
     "execution_count": 20,
     "metadata": {},
     "output_type": "execute_result"
    }
   ],
   "source": [
    "buy_sell_count(df_cur_pair)"
   ]
  },
  {
   "cell_type": "markdown",
   "id": "3c26afd9",
   "metadata": {},
   "source": [
    "##### Визуализация данных по Buy и Sell"
   ]
  },
  {
   "cell_type": "code",
   "execution_count": 21,
   "id": "433d8a8d",
   "metadata": {},
   "outputs": [],
   "source": [
    "def visual_buy_sell(dataframe):\n",
    "    plt.figure(figsize=(8, 5))\n",
    "\n",
    "    sns.countplot(x='Тип', data=dataframe)\n",
    "    plt.title('Target variable distribution')\n",
    "    plt.show()"
   ]
  },
  {
   "cell_type": "code",
   "execution_count": 22,
   "id": "467d3620",
   "metadata": {},
   "outputs": [
    {
     "data": {
      "image/png": "[encoded data removed]",
      "text/plain": [
       "<Figure size 576x360 with 1 Axes>"
      ]
     },
     "metadata": {
      "needs_background": "light"
     },
     "output_type": "display_data"
    }
   ],
   "source": [
    "visual_buy_sell(df_cur_pair)"
   ]
  },
  {
   "cell_type": "markdown",
   "id": "258db3c2",
   "metadata": {},
   "source": [
    "##### Проверка на дисбаланс классов"
   ]
  },
  {
   "cell_type": "code",
   "execution_count": 23,
   "id": "e41a7a94",
   "metadata": {},
   "outputs": [],
   "source": [
    "def dissbalance(dataframe):\n",
    "    # class count\n",
    "    class_count_0, class_count_1 = dataframe['Тип'].value_counts()\n",
    "\n",
    "    # Separate class\n",
    "    class_0 = dataframe[dataframe['Тип'] == 'buy']\n",
    "    class_1 = dataframe[dataframe['Тип'] == 'sell']# print the shape of the class\n",
    "    print('buy class 0:', class_0.shape)\n",
    "    print('sell class 1:', class_1.shape)\n",
    "    "
   ]
  },
  {
   "cell_type": "code",
   "execution_count": 24,
   "id": "1045c1ab",
   "metadata": {},
   "outputs": [
    {
     "name": "stdout",
     "output_type": "stream",
     "text": [
      "buy class 0: (10776, 10)\n",
      "sell class 1: (9415, 10)\n"
     ]
    }
   ],
   "source": [
    "dissbalance(big_df)"
   ]
  },
  {
   "cell_type": "markdown",
   "id": "fe4dba29",
   "metadata": {},
   "source": [
    "##### Изменение начального датасета, добавление демипеременных, избавление от типов object"
   ]
  },
  {
   "cell_type": "code",
   "execution_count": 25,
   "id": "baf6154a",
   "metadata": {},
   "outputs": [],
   "source": [
    "def prepare_data(dataframe):\n",
    "    prep_data = pd.concat([dataframe, pd.get_dummies(dataframe['Тип'])], axis=1)\n",
    "    prep_data.drop(columns=['Тип'], inplace=True)\n",
    "    prep_data = pd.concat([prep_data, pd.get_dummies(dataframe['Тип комиссии'])], axis=1)\n",
    "    prep_data.drop(columns=['Тип комиссии'], inplace=True)\n",
    "    prep_data = pd.concat([prep_data, pd.get_dummies(dataframe['Комиссия %'])], axis=1)\n",
    "    prep_data.drop(columns=['Комиссия %'], inplace=True)\n",
    "    prep_data.drop(columns=['Trade ID'], inplace=True)\n",
    "    prepare_data = to_datetime(prep_data)\n",
    "    return prepare_data"
   ]
  },
  {
   "cell_type": "code",
   "execution_count": 30,
   "id": "bc9624af",
   "metadata": {},
   "outputs": [
    {
     "data": {
      "text/html": [
       "<div>\n",
       "<style scoped>\n",
       "    .dataframe tbody tr th:only-of-type {\n",
       "        vertical-align: middle;\n",
       "    }\n",
       "\n",
       "    .dataframe tbody tr th {\n",
       "        vertical-align: top;\n",
       "    }\n",
       "\n",
       "    .dataframe thead th {\n",
       "        text-align: right;\n",
       "    }\n",
       "</style>\n",
       "<table border=\"1\" class=\"dataframe\">\n",
       "  <thead>\n",
       "    <tr style=\"text-align: right;\">\n",
       "      <th></th>\n",
       "      <th>Дата/время</th>\n",
       "      <th>Валютная пара</th>\n",
       "      <th>Количество</th>\n",
       "      <th>Цена</th>\n",
       "      <th>Сумма</th>\n",
       "      <th>Размер комиссии</th>\n",
       "      <th>days</th>\n",
       "      <th>buy</th>\n",
       "      <th>sell</th>\n",
       "      <th>maker</th>\n",
       "      <th>taker</th>\n",
       "      <th>0.1%</th>\n",
       "      <th>0.3%</th>\n",
       "    </tr>\n",
       "  </thead>\n",
       "  <tbody>\n",
       "    <tr>\n",
       "      <th>1</th>\n",
       "      <td>2023-05-06 08:01:00</td>\n",
       "      <td>EXM_ETH</td>\n",
       "      <td>0.008229</td>\n",
       "      <td>0.000007</td>\n",
       "      <td>6.000000e-08</td>\n",
       "      <td>0.000000e+00</td>\n",
       "      <td>06</td>\n",
       "      <td>0</td>\n",
       "      <td>1</td>\n",
       "      <td>1</td>\n",
       "      <td>0</td>\n",
       "      <td>1</td>\n",
       "      <td>0</td>\n",
       "    </tr>\n",
       "    <tr>\n",
       "      <th>2</th>\n",
       "      <td>2023-05-06 08:01:00</td>\n",
       "      <td>EXM_ETH</td>\n",
       "      <td>576.058184</td>\n",
       "      <td>0.000007</td>\n",
       "      <td>4.205220e-03</td>\n",
       "      <td>4.200000e-06</td>\n",
       "      <td>06</td>\n",
       "      <td>0</td>\n",
       "      <td>1</td>\n",
       "      <td>1</td>\n",
       "      <td>0</td>\n",
       "      <td>1</td>\n",
       "      <td>0</td>\n",
       "    </tr>\n",
       "    <tr>\n",
       "      <th>3</th>\n",
       "      <td>2023-05-06 06:25:00</td>\n",
       "      <td>EXM_ETH</td>\n",
       "      <td>53.889276</td>\n",
       "      <td>0.000007</td>\n",
       "      <td>3.880000e-04</td>\n",
       "      <td>3.800000e-07</td>\n",
       "      <td>06</td>\n",
       "      <td>0</td>\n",
       "      <td>1</td>\n",
       "      <td>1</td>\n",
       "      <td>0</td>\n",
       "      <td>1</td>\n",
       "      <td>0</td>\n",
       "    </tr>\n",
       "    <tr>\n",
       "      <th>4</th>\n",
       "      <td>2023-05-06 06:24:00</td>\n",
       "      <td>EXM_ETH</td>\n",
       "      <td>141.208914</td>\n",
       "      <td>0.000007</td>\n",
       "      <td>1.016700e-03</td>\n",
       "      <td>1.010000e-06</td>\n",
       "      <td>06</td>\n",
       "      <td>0</td>\n",
       "      <td>1</td>\n",
       "      <td>1</td>\n",
       "      <td>0</td>\n",
       "      <td>1</td>\n",
       "      <td>0</td>\n",
       "    </tr>\n",
       "    <tr>\n",
       "      <th>5</th>\n",
       "      <td>2023-05-06 06:24:00</td>\n",
       "      <td>EXM_ETH</td>\n",
       "      <td>141.184908</td>\n",
       "      <td>0.000007</td>\n",
       "      <td>1.016530e-03</td>\n",
       "      <td>1.010000e-06</td>\n",
       "      <td>06</td>\n",
       "      <td>0</td>\n",
       "      <td>1</td>\n",
       "      <td>1</td>\n",
       "      <td>0</td>\n",
       "      <td>1</td>\n",
       "      <td>0</td>\n",
       "    </tr>\n",
       "    <tr>\n",
       "      <th>...</th>\n",
       "      <td>...</td>\n",
       "      <td>...</td>\n",
       "      <td>...</td>\n",
       "      <td>...</td>\n",
       "      <td>...</td>\n",
       "      <td>...</td>\n",
       "      <td>...</td>\n",
       "      <td>...</td>\n",
       "      <td>...</td>\n",
       "      <td>...</td>\n",
       "      <td>...</td>\n",
       "      <td>...</td>\n",
       "      <td>...</td>\n",
       "    </tr>\n",
       "    <tr>\n",
       "      <th>26155</th>\n",
       "      <td>2021-06-06 05:31:00</td>\n",
       "      <td>EXM_ETH</td>\n",
       "      <td>225.792700</td>\n",
       "      <td>0.000030</td>\n",
       "      <td>6.773780e-03</td>\n",
       "      <td>2.032000e-05</td>\n",
       "      <td>06</td>\n",
       "      <td>0</td>\n",
       "      <td>1</td>\n",
       "      <td>1</td>\n",
       "      <td>0</td>\n",
       "      <td>0</td>\n",
       "      <td>1</td>\n",
       "    </tr>\n",
       "    <tr>\n",
       "      <th>26376</th>\n",
       "      <td>2021-06-05 14:27:00</td>\n",
       "      <td>EXM_ETH</td>\n",
       "      <td>92.390657</td>\n",
       "      <td>0.000020</td>\n",
       "      <td>1.847810e-03</td>\n",
       "      <td>5.540000e-06</td>\n",
       "      <td>05</td>\n",
       "      <td>0</td>\n",
       "      <td>1</td>\n",
       "      <td>1</td>\n",
       "      <td>0</td>\n",
       "      <td>0</td>\n",
       "      <td>1</td>\n",
       "    </tr>\n",
       "    <tr>\n",
       "      <th>26380</th>\n",
       "      <td>2021-06-05 14:27:00</td>\n",
       "      <td>EXM_ETH</td>\n",
       "      <td>569.620001</td>\n",
       "      <td>0.000020</td>\n",
       "      <td>1.139240e-02</td>\n",
       "      <td>3.417000e-05</td>\n",
       "      <td>05</td>\n",
       "      <td>0</td>\n",
       "      <td>1</td>\n",
       "      <td>1</td>\n",
       "      <td>0</td>\n",
       "      <td>0</td>\n",
       "      <td>1</td>\n",
       "    </tr>\n",
       "    <tr>\n",
       "      <th>26701</th>\n",
       "      <td>2021-05-26 23:30:00</td>\n",
       "      <td>EXM_ETH</td>\n",
       "      <td>664.002667</td>\n",
       "      <td>0.000015</td>\n",
       "      <td>9.960030e-03</td>\n",
       "      <td>1.992008e+00</td>\n",
       "      <td>26</td>\n",
       "      <td>1</td>\n",
       "      <td>0</td>\n",
       "      <td>1</td>\n",
       "      <td>0</td>\n",
       "      <td>0</td>\n",
       "      <td>1</td>\n",
       "    </tr>\n",
       "    <tr>\n",
       "      <th>27610</th>\n",
       "      <td>2021-05-05 22:52:00</td>\n",
       "      <td>EXM_ETH</td>\n",
       "      <td>225.598000</td>\n",
       "      <td>0.000020</td>\n",
       "      <td>4.511950e-03</td>\n",
       "      <td>6.767940e-01</td>\n",
       "      <td>05</td>\n",
       "      <td>1</td>\n",
       "      <td>0</td>\n",
       "      <td>1</td>\n",
       "      <td>0</td>\n",
       "      <td>0</td>\n",
       "      <td>1</td>\n",
       "    </tr>\n",
       "  </tbody>\n",
       "</table>\n",
       "<p>383 rows × 13 columns</p>\n",
       "</div>"
      ],
      "text/plain": [
       "               Дата/время Валютная пара  Количество      Цена         Сумма  \\\n",
       "1     2023-05-06 08:01:00       EXM_ETH    0.008229  0.000007  6.000000e-08   \n",
       "2     2023-05-06 08:01:00       EXM_ETH  576.058184  0.000007  4.205220e-03   \n",
       "3     2023-05-06 06:25:00       EXM_ETH   53.889276  0.000007  3.880000e-04   \n",
       "4     2023-05-06 06:24:00       EXM_ETH  141.208914  0.000007  1.016700e-03   \n",
       "5     2023-05-06 06:24:00       EXM_ETH  141.184908  0.000007  1.016530e-03   \n",
       "...                   ...           ...         ...       ...           ...   \n",
       "26155 2021-06-06 05:31:00       EXM_ETH  225.792700  0.000030  6.773780e-03   \n",
       "26376 2021-06-05 14:27:00       EXM_ETH   92.390657  0.000020  1.847810e-03   \n",
       "26380 2021-06-05 14:27:00       EXM_ETH  569.620001  0.000020  1.139240e-02   \n",
       "26701 2021-05-26 23:30:00       EXM_ETH  664.002667  0.000015  9.960030e-03   \n",
       "27610 2021-05-05 22:52:00       EXM_ETH  225.598000  0.000020  4.511950e-03   \n",
       "\n",
       "       Размер комиссии days  buy  sell  maker  taker  0.1%  0.3%  \n",
       "1         0.000000e+00   06    0     1      1      0     1     0  \n",
       "2         4.200000e-06   06    0     1      1      0     1     0  \n",
       "3         3.800000e-07   06    0     1      1      0     1     0  \n",
       "4         1.010000e-06   06    0     1      1      0     1     0  \n",
       "5         1.010000e-06   06    0     1      1      0     1     0  \n",
       "...                ...  ...  ...   ...    ...    ...   ...   ...  \n",
       "26155     2.032000e-05   06    0     1      1      0     0     1  \n",
       "26376     5.540000e-06   05    0     1      1      0     0     1  \n",
       "26380     3.417000e-05   05    0     1      1      0     0     1  \n",
       "26701     1.992008e+00   26    1     0      1      0     0     1  \n",
       "27610     6.767940e-01   05    1     0      1      0     0     1  \n",
       "\n",
       "[383 rows x 13 columns]"
      ]
     },
     "execution_count": 30,
     "metadata": {},
     "output_type": "execute_result"
    }
   ],
   "source": [
    "pr_df = prepare_data(df_cur_pair) \n",
    "pr_df"
   ]
  },
  {
   "cell_type": "markdown",
   "id": "3288d6a8",
   "metadata": {},
   "source": [
    "##### Число сделок в день (сортировка по количеству сделок)"
   ]
  },
  {
   "cell_type": "code",
   "execution_count": 26,
   "id": "6b1bd47b",
   "metadata": {},
   "outputs": [],
   "source": [
    "def per_day_val(dataframe):\n",
    "    new_vals = []\n",
    "    vals = dataframe['Дата/время'].values\n",
    "    for el in vals:\n",
    "        numb = el[0:2]\n",
    "        new_vals.append(numb)\n",
    "    dataframe['days'] = new_vals\n",
    "    dataframe['days'].value_counts()\n",
    "    return dataframe['days'].value_counts()"
   ]
  },
  {
   "cell_type": "code",
   "execution_count": 27,
   "id": "091d0a4f",
   "metadata": {},
   "outputs": [
    {
     "data": {
      "text/plain": [
       "03    30\n",
       "23    27\n",
       "13    22\n",
       "11    20\n",
       "06    19\n",
       "02    19\n",
       "05    18\n",
       "14    17\n",
       "26    16\n",
       "24    16\n",
       "01    15\n",
       "18    15\n",
       "22    14\n",
       "12    14\n",
       "16    12\n",
       "17    12\n",
       "10    11\n",
       "21    10\n",
       "27    10\n",
       "09     8\n",
       "29     7\n",
       "30     7\n",
       "31     6\n",
       "25     6\n",
       "28     6\n",
       "15     6\n",
       "07     6\n",
       "04     5\n",
       "20     4\n",
       "19     4\n",
       "08     1\n",
       "Name: days, dtype: int64"
      ]
     },
     "execution_count": 27,
     "metadata": {},
     "output_type": "execute_result"
    }
   ],
   "source": [
    "per_day_val(df_cur_pair)"
   ]
  },
  {
   "cell_type": "markdown",
   "id": "48ead585",
   "metadata": {},
   "source": [
    "##### Число сделок в день (сортировка по дате)"
   ]
  },
  {
   "cell_type": "code",
   "execution_count": 30,
   "id": "6e9241d5",
   "metadata": {},
   "outputs": [],
   "source": [
    "from collections import Counter\n",
    "\n",
    "def per_day_date(dataframe):\n",
    "    new_vals = []\n",
    "    vals = dataframe['Дата/время'].values\n",
    "    for el in vals:\n",
    "        numb = el[0:2]\n",
    "        new_vals.append(numb)\n",
    "    count = Counter(new_vals)\n",
    "    \n",
    "    return dict(sorted(count.items()))"
   ]
  },
  {
   "cell_type": "code",
   "execution_count": 34,
   "id": "8b68f518",
   "metadata": {},
   "outputs": [
    {
     "data": {
      "text/plain": [
       "{'01': 10,\n",
       " '02': 5,\n",
       " '03': 23,\n",
       " '04': 9,\n",
       " '05': 5,\n",
       " '06': 8,\n",
       " '07': 8,\n",
       " '08': 14,\n",
       " '09': 4,\n",
       " '10': 5,\n",
       " '11': 9,\n",
       " '12': 8,\n",
       " '13': 4,\n",
       " '14': 6,\n",
       " '15': 4,\n",
       " '16': 4,\n",
       " '17': 14,\n",
       " '18': 1,\n",
       " '19': 5,\n",
       " '20': 8,\n",
       " '21': 7,\n",
       " '22': 5,\n",
       " '23': 4}"
      ]
     },
     "execution_count": 34,
     "metadata": {},
     "output_type": "execute_result"
    }
   ],
   "source": [
    "per_day_date(df_apr_2023)"
   ]
  },
  {
   "cell_type": "markdown",
   "id": "3b2d8f47",
   "metadata": {},
   "source": [
    "### Анализ данных:"
   ]
  },
  {
   "cell_type": "markdown",
   "id": "a2545dd3",
   "metadata": {},
   "source": [
    "Смотрю тип данных в каждой колонке, чтобы из датафрейма сделать припарированный, новый подготовленный для аналитики датасет."
   ]
  },
  {
   "cell_type": "code",
   "execution_count": 28,
   "id": "8c163f9d",
   "metadata": {},
   "outputs": [
    {
     "name": "stdout",
     "output_type": "stream",
     "text": [
      "<class 'pandas.core.frame.DataFrame'>\n",
      "Int64Index: 20191 entries, 0 to 29091\n",
      "Data columns (total 10 columns):\n",
      " #   Column           Non-Null Count  Dtype  \n",
      "---  ------           --------------  -----  \n",
      " 0   Дата/время       20191 non-null  object \n",
      " 1   Trade ID         20191 non-null  int64  \n",
      " 2   Тип              20191 non-null  object \n",
      " 3   Валютная пара    20191 non-null  object \n",
      " 4   Количество       20191 non-null  float64\n",
      " 5   Цена             20191 non-null  float64\n",
      " 6   Сумма            20191 non-null  float64\n",
      " 7   Тип комиссии     20191 non-null  object \n",
      " 8   Размер комиссии  20191 non-null  float64\n",
      " 9   Комиссия %       20191 non-null  object \n",
      "dtypes: float64(4), int64(1), object(5)\n",
      "memory usage: 1.7+ MB\n"
     ]
    }
   ],
   "source": [
    "big_df.info()"
   ]
  },
  {
   "cell_type": "markdown",
   "id": "867df04d",
   "metadata": {},
   "source": [
    "Пропуски отсутствуют. Типы данных:  float64 - 4 столбца,  int64 - 1 столбец. object - 5 столбцов. итого:  5 столбцов у нас числовые, 5 столбцов категориальные. \n",
    "\n",
    "Смотрю сразу же препарированные данные"
   ]
  },
  {
   "cell_type": "code",
   "execution_count": 31,
   "id": "dff57e8d",
   "metadata": {},
   "outputs": [
    {
     "name": "stdout",
     "output_type": "stream",
     "text": [
      "<class 'pandas.core.frame.DataFrame'>\n",
      "Int64Index: 383 entries, 1 to 27610\n",
      "Data columns (total 13 columns):\n",
      " #   Column           Non-Null Count  Dtype         \n",
      "---  ------           --------------  -----         \n",
      " 0   Дата/время       383 non-null    datetime64[ns]\n",
      " 1   Валютная пара    383 non-null    object        \n",
      " 2   Количество       383 non-null    float64       \n",
      " 3   Цена             383 non-null    float64       \n",
      " 4   Сумма            383 non-null    float64       \n",
      " 5   Размер комиссии  383 non-null    float64       \n",
      " 6   days             383 non-null    object        \n",
      " 7   buy              383 non-null    uint8         \n",
      " 8   sell             383 non-null    uint8         \n",
      " 9   maker            383 non-null    uint8         \n",
      " 10  taker            383 non-null    uint8         \n",
      " 11  0.1%             383 non-null    uint8         \n",
      " 12  0.3%             383 non-null    uint8         \n",
      "dtypes: datetime64[ns](1), float64(4), object(2), uint8(6)\n",
      "memory usage: 26.2+ KB\n"
     ]
    }
   ],
   "source": [
    "pr_df.info()"
   ]
  },
  {
   "cell_type": "markdown",
   "id": "f99392d2",
   "metadata": {},
   "source": [
    "### Обзор количественных переменных:\n",
    "Количественные (непрерывные) переменные - это переменные, которые могут принимать любые числовые значения в некотором диапазоне."
   ]
  },
  {
   "cell_type": "code",
   "execution_count": 32,
   "id": "d2ff4361",
   "metadata": {},
   "outputs": [
    {
     "data": {
      "text/html": [
       "<div>\n",
       "<style scoped>\n",
       "    .dataframe tbody tr th:only-of-type {\n",
       "        vertical-align: middle;\n",
       "    }\n",
       "\n",
       "    .dataframe tbody tr th {\n",
       "        vertical-align: top;\n",
       "    }\n",
       "\n",
       "    .dataframe thead th {\n",
       "        text-align: right;\n",
       "    }\n",
       "</style>\n",
       "<table border=\"1\" class=\"dataframe\">\n",
       "  <thead>\n",
       "    <tr style=\"text-align: right;\">\n",
       "      <th></th>\n",
       "      <th>Trade ID</th>\n",
       "      <th>Количество</th>\n",
       "      <th>Цена</th>\n",
       "      <th>Сумма</th>\n",
       "      <th>Размер комиссии</th>\n",
       "    </tr>\n",
       "  </thead>\n",
       "  <tbody>\n",
       "    <tr>\n",
       "      <th>0</th>\n",
       "      <td>476351943</td>\n",
       "      <td>64.793009</td>\n",
       "      <td>4.900000e-07</td>\n",
       "      <td>3.174000e-05</td>\n",
       "      <td>3.000000e-08</td>\n",
       "    </tr>\n",
       "    <tr>\n",
       "      <th>1</th>\n",
       "      <td>476346355</td>\n",
       "      <td>0.008229</td>\n",
       "      <td>7.300000e-06</td>\n",
       "      <td>6.000000e-08</td>\n",
       "      <td>0.000000e+00</td>\n",
       "    </tr>\n",
       "    <tr>\n",
       "      <th>2</th>\n",
       "      <td>476346354</td>\n",
       "      <td>576.058184</td>\n",
       "      <td>7.300000e-06</td>\n",
       "      <td>4.205220e-03</td>\n",
       "      <td>4.200000e-06</td>\n",
       "    </tr>\n",
       "    <tr>\n",
       "      <th>3</th>\n",
       "      <td>476331181</td>\n",
       "      <td>53.889276</td>\n",
       "      <td>7.200000e-06</td>\n",
       "      <td>3.880000e-04</td>\n",
       "      <td>3.800000e-07</td>\n",
       "    </tr>\n",
       "    <tr>\n",
       "      <th>4</th>\n",
       "      <td>476331039</td>\n",
       "      <td>141.208914</td>\n",
       "      <td>7.200000e-06</td>\n",
       "      <td>1.016700e-03</td>\n",
       "      <td>1.010000e-06</td>\n",
       "    </tr>\n",
       "  </tbody>\n",
       "</table>\n",
       "</div>"
      ],
      "text/plain": [
       "    Trade ID  Количество          Цена         Сумма  Размер комиссии\n",
       "0  476351943   64.793009  4.900000e-07  3.174000e-05     3.000000e-08\n",
       "1  476346355    0.008229  7.300000e-06  6.000000e-08     0.000000e+00\n",
       "2  476346354  576.058184  7.300000e-06  4.205220e-03     4.200000e-06\n",
       "3  476331181   53.889276  7.200000e-06  3.880000e-04     3.800000e-07\n",
       "4  476331039  141.208914  7.200000e-06  1.016700e-03     1.010000e-06"
      ]
     },
     "execution_count": 32,
     "metadata": {},
     "output_type": "execute_result"
    }
   ],
   "source": [
    "df_num_features = big_df.select_dtypes(include=['float64', 'int64'])\n",
    "df_num_features.head()"
   ]
  },
  {
   "cell_type": "markdown",
   "id": "0dbec1d8",
   "metadata": {},
   "source": [
    "С помощью .describe можно получить первичное понимание того, что из себя представляют данные"
   ]
  },
  {
   "cell_type": "code",
   "execution_count": 33,
   "id": "96b3067c",
   "metadata": {},
   "outputs": [
    {
     "data": {
      "text/html": [
       "<div>\n",
       "<style scoped>\n",
       "    .dataframe tbody tr th:only-of-type {\n",
       "        vertical-align: middle;\n",
       "    }\n",
       "\n",
       "    .dataframe tbody tr th {\n",
       "        vertical-align: top;\n",
       "    }\n",
       "\n",
       "    .dataframe thead th {\n",
       "        text-align: right;\n",
       "    }\n",
       "</style>\n",
       "<table border=\"1\" class=\"dataframe\">\n",
       "  <thead>\n",
       "    <tr style=\"text-align: right;\">\n",
       "      <th></th>\n",
       "      <th>Trade ID</th>\n",
       "      <th>Количество</th>\n",
       "      <th>Цена</th>\n",
       "      <th>Сумма</th>\n",
       "      <th>Размер комиссии</th>\n",
       "    </tr>\n",
       "  </thead>\n",
       "  <tbody>\n",
       "    <tr>\n",
       "      <th>count</th>\n",
       "      <td>2.019100e+04</td>\n",
       "      <td>2.019100e+04</td>\n",
       "      <td>2.019100e+04</td>\n",
       "      <td>2.019100e+04</td>\n",
       "      <td>20191.000000</td>\n",
       "    </tr>\n",
       "    <tr>\n",
       "      <th>mean</th>\n",
       "      <td>3.390256e+08</td>\n",
       "      <td>1.878377e+04</td>\n",
       "      <td>2.312927e+02</td>\n",
       "      <td>1.477147e+02</td>\n",
       "      <td>29.082879</td>\n",
       "    </tr>\n",
       "    <tr>\n",
       "      <th>std</th>\n",
       "      <td>5.833004e+07</td>\n",
       "      <td>2.157841e+05</td>\n",
       "      <td>2.869231e+04</td>\n",
       "      <td>5.855574e+02</td>\n",
       "      <td>415.977626</td>\n",
       "    </tr>\n",
       "    <tr>\n",
       "      <th>min</th>\n",
       "      <td>2.574128e+08</td>\n",
       "      <td>1.000000e-08</td>\n",
       "      <td>1.000000e-08</td>\n",
       "      <td>1.000000e-08</td>\n",
       "      <td>0.000000</td>\n",
       "    </tr>\n",
       "    <tr>\n",
       "      <th>25%</th>\n",
       "      <td>2.867217e+08</td>\n",
       "      <td>2.220000e+00</td>\n",
       "      <td>3.400000e-04</td>\n",
       "      <td>1.419140e-03</td>\n",
       "      <td>0.002428</td>\n",
       "    </tr>\n",
       "    <tr>\n",
       "      <th>50%</th>\n",
       "      <td>3.314558e+08</td>\n",
       "      <td>1.600000e+01</td>\n",
       "      <td>6.000000e-02</td>\n",
       "      <td>1.492303e+00</td>\n",
       "      <td>0.020473</td>\n",
       "    </tr>\n",
       "    <tr>\n",
       "      <th>75%</th>\n",
       "      <td>3.763665e+08</td>\n",
       "      <td>3.141987e+02</td>\n",
       "      <td>1.175000e+00</td>\n",
       "      <td>7.500000e+01</td>\n",
       "      <td>0.340965</td>\n",
       "    </tr>\n",
       "    <tr>\n",
       "      <th>max</th>\n",
       "      <td>4.763519e+08</td>\n",
       "      <td>1.200000e+07</td>\n",
       "      <td>4.076950e+06</td>\n",
       "      <td>2.200000e+04</td>\n",
       "      <td>24000.001200</td>\n",
       "    </tr>\n",
       "  </tbody>\n",
       "</table>\n",
       "</div>"
      ],
      "text/plain": [
       "           Trade ID    Количество          Цена         Сумма  Размер комиссии\n",
       "count  2.019100e+04  2.019100e+04  2.019100e+04  2.019100e+04     20191.000000\n",
       "mean   3.390256e+08  1.878377e+04  2.312927e+02  1.477147e+02        29.082879\n",
       "std    5.833004e+07  2.157841e+05  2.869231e+04  5.855574e+02       415.977626\n",
       "min    2.574128e+08  1.000000e-08  1.000000e-08  1.000000e-08         0.000000\n",
       "25%    2.867217e+08  2.220000e+00  3.400000e-04  1.419140e-03         0.002428\n",
       "50%    3.314558e+08  1.600000e+01  6.000000e-02  1.492303e+00         0.020473\n",
       "75%    3.763665e+08  3.141987e+02  1.175000e+00  7.500000e+01         0.340965\n",
       "max    4.763519e+08  1.200000e+07  4.076950e+06  2.200000e+04     24000.001200"
      ]
     },
     "execution_count": 33,
     "metadata": {},
     "output_type": "execute_result"
    }
   ],
   "source": [
    "df_num_features.describe()"
   ]
  },
  {
   "cell_type": "markdown",
   "id": "b7ff0008",
   "metadata": {},
   "source": [
    "### Обзор номинативных переменных\n",
    "Номинативная (категориальная) переменная - тип дискретной переменной, качественная (неколичественная) переменная величина"
   ]
  },
  {
   "cell_type": "code",
   "execution_count": 34,
   "id": "5e2229c0",
   "metadata": {},
   "outputs": [
    {
     "data": {
      "text/html": [
       "<div>\n",
       "<style scoped>\n",
       "    .dataframe tbody tr th:only-of-type {\n",
       "        vertical-align: middle;\n",
       "    }\n",
       "\n",
       "    .dataframe tbody tr th {\n",
       "        vertical-align: top;\n",
       "    }\n",
       "\n",
       "    .dataframe thead th {\n",
       "        text-align: right;\n",
       "    }\n",
       "</style>\n",
       "<table border=\"1\" class=\"dataframe\">\n",
       "  <thead>\n",
       "    <tr style=\"text-align: right;\">\n",
       "      <th></th>\n",
       "      <th>Дата/время</th>\n",
       "      <th>Тип</th>\n",
       "      <th>Валютная пара</th>\n",
       "      <th>Тип комиссии</th>\n",
       "      <th>Комиссия %</th>\n",
       "    </tr>\n",
       "  </thead>\n",
       "  <tbody>\n",
       "    <tr>\n",
       "      <th>0</th>\n",
       "      <td>06.05.2023 08:34</td>\n",
       "      <td>sell</td>\n",
       "      <td>EXM_BTC</td>\n",
       "      <td>maker</td>\n",
       "      <td>0.1%</td>\n",
       "    </tr>\n",
       "    <tr>\n",
       "      <th>1</th>\n",
       "      <td>06.05.2023 08:01</td>\n",
       "      <td>sell</td>\n",
       "      <td>EXM_ETH</td>\n",
       "      <td>maker</td>\n",
       "      <td>0.1%</td>\n",
       "    </tr>\n",
       "    <tr>\n",
       "      <th>2</th>\n",
       "      <td>06.05.2023 08:01</td>\n",
       "      <td>sell</td>\n",
       "      <td>EXM_ETH</td>\n",
       "      <td>maker</td>\n",
       "      <td>0.1%</td>\n",
       "    </tr>\n",
       "    <tr>\n",
       "      <th>3</th>\n",
       "      <td>06.05.2023 06:25</td>\n",
       "      <td>sell</td>\n",
       "      <td>EXM_ETH</td>\n",
       "      <td>maker</td>\n",
       "      <td>0.1%</td>\n",
       "    </tr>\n",
       "    <tr>\n",
       "      <th>4</th>\n",
       "      <td>06.05.2023 06:24</td>\n",
       "      <td>sell</td>\n",
       "      <td>EXM_ETH</td>\n",
       "      <td>maker</td>\n",
       "      <td>0.1%</td>\n",
       "    </tr>\n",
       "  </tbody>\n",
       "</table>\n",
       "</div>"
      ],
      "text/plain": [
       "         Дата/время   Тип Валютная пара Тип комиссии Комиссия %\n",
       "0  06.05.2023 08:34  sell       EXM_BTC        maker       0.1%\n",
       "1  06.05.2023 08:01  sell       EXM_ETH        maker       0.1%\n",
       "2  06.05.2023 08:01  sell       EXM_ETH        maker       0.1%\n",
       "3  06.05.2023 06:25  sell       EXM_ETH        maker       0.1%\n",
       "4  06.05.2023 06:24  sell       EXM_ETH        maker       0.1%"
      ]
     },
     "execution_count": 34,
     "metadata": {},
     "output_type": "execute_result"
    }
   ],
   "source": [
    "df_num_features = big_df.select_dtypes(include=['object'])\n",
    "df_num_features.head()"
   ]
  },
  {
   "cell_type": "markdown",
   "id": "626b274a",
   "metadata": {},
   "source": [
    "Подсчёты количества значений"
   ]
  },
  {
   "cell_type": "code",
   "execution_count": 35,
   "id": "370274ab",
   "metadata": {},
   "outputs": [
    {
     "data": {
      "text/plain": [
       "buy     10776\n",
       "sell     9415\n",
       "Name: Тип, dtype: int64"
      ]
     },
     "execution_count": 35,
     "metadata": {},
     "output_type": "execute_result"
    }
   ],
   "source": [
    "big_df['Тип'].value_counts()"
   ]
  },
  {
   "cell_type": "code",
   "execution_count": 22,
   "id": "d7a88bf3",
   "metadata": {},
   "outputs": [
    {
     "data": {
      "text/plain": [
       "Тип   Тип комиссии\n",
       "buy   maker           9267\n",
       "sell  maker           8447\n",
       "buy   taker            933\n",
       "sell  taker            440\n",
       "dtype: int64"
      ]
     },
     "execution_count": 22,
     "metadata": {},
     "output_type": "execute_result"
    }
   ],
   "source": [
    "big_df[['Тип', 'Тип комиссии']].value_counts()"
   ]
  },
  {
   "cell_type": "code",
   "execution_count": 36,
   "id": "fda19b20",
   "metadata": {},
   "outputs": [
    {
     "data": {
      "text/plain": [
       "Дата/время       12347\n",
       "Тип                  2\n",
       "Тип комиссии         2\n",
       "Валютная пара       63\n",
       "Комиссия %           7\n",
       "dtype: int64"
      ]
     },
     "execution_count": 36,
     "metadata": {},
     "output_type": "execute_result"
    }
   ],
   "source": [
    "big_df[['Дата/время', 'Тип', 'Тип комиссии', 'Валютная пара', 'Комиссия %']].nunique()"
   ]
  },
  {
   "cell_type": "markdown",
   "id": "8d6303a9",
   "metadata": {},
   "source": [
    "### Смотрим пропуски"
   ]
  },
  {
   "cell_type": "code",
   "execution_count": 24,
   "id": "e2fd97f4",
   "metadata": {},
   "outputs": [
    {
     "data": {
      "text/html": [
       "<div>\n",
       "<style scoped>\n",
       "    .dataframe tbody tr th:only-of-type {\n",
       "        vertical-align: middle;\n",
       "    }\n",
       "\n",
       "    .dataframe tbody tr th {\n",
       "        vertical-align: top;\n",
       "    }\n",
       "\n",
       "    .dataframe thead th {\n",
       "        text-align: right;\n",
       "    }\n",
       "</style>\n",
       "<table border=\"1\" class=\"dataframe\">\n",
       "  <thead>\n",
       "    <tr style=\"text-align: right;\">\n",
       "      <th></th>\n",
       "      <th>Дата/время</th>\n",
       "      <th>Trade ID</th>\n",
       "      <th>Тип</th>\n",
       "      <th>Валютная пара</th>\n",
       "      <th>Количество</th>\n",
       "      <th>Цена</th>\n",
       "      <th>Сумма</th>\n",
       "      <th>Тип комиссии</th>\n",
       "      <th>Размер комиссии</th>\n",
       "      <th>Комиссия %</th>\n",
       "    </tr>\n",
       "  </thead>\n",
       "  <tbody>\n",
       "    <tr>\n",
       "      <th>0</th>\n",
       "      <td>False</td>\n",
       "      <td>False</td>\n",
       "      <td>False</td>\n",
       "      <td>False</td>\n",
       "      <td>False</td>\n",
       "      <td>False</td>\n",
       "      <td>False</td>\n",
       "      <td>False</td>\n",
       "      <td>False</td>\n",
       "      <td>False</td>\n",
       "    </tr>\n",
       "    <tr>\n",
       "      <th>1</th>\n",
       "      <td>False</td>\n",
       "      <td>False</td>\n",
       "      <td>False</td>\n",
       "      <td>False</td>\n",
       "      <td>False</td>\n",
       "      <td>False</td>\n",
       "      <td>False</td>\n",
       "      <td>False</td>\n",
       "      <td>False</td>\n",
       "      <td>False</td>\n",
       "    </tr>\n",
       "    <tr>\n",
       "      <th>2</th>\n",
       "      <td>False</td>\n",
       "      <td>False</td>\n",
       "      <td>False</td>\n",
       "      <td>False</td>\n",
       "      <td>False</td>\n",
       "      <td>False</td>\n",
       "      <td>False</td>\n",
       "      <td>False</td>\n",
       "      <td>False</td>\n",
       "      <td>False</td>\n",
       "    </tr>\n",
       "    <tr>\n",
       "      <th>3</th>\n",
       "      <td>False</td>\n",
       "      <td>False</td>\n",
       "      <td>False</td>\n",
       "      <td>False</td>\n",
       "      <td>False</td>\n",
       "      <td>False</td>\n",
       "      <td>False</td>\n",
       "      <td>False</td>\n",
       "      <td>False</td>\n",
       "      <td>False</td>\n",
       "    </tr>\n",
       "    <tr>\n",
       "      <th>4</th>\n",
       "      <td>False</td>\n",
       "      <td>False</td>\n",
       "      <td>False</td>\n",
       "      <td>False</td>\n",
       "      <td>False</td>\n",
       "      <td>False</td>\n",
       "      <td>False</td>\n",
       "      <td>False</td>\n",
       "      <td>False</td>\n",
       "      <td>False</td>\n",
       "    </tr>\n",
       "    <tr>\n",
       "      <th>...</th>\n",
       "      <td>...</td>\n",
       "      <td>...</td>\n",
       "      <td>...</td>\n",
       "      <td>...</td>\n",
       "      <td>...</td>\n",
       "      <td>...</td>\n",
       "      <td>...</td>\n",
       "      <td>...</td>\n",
       "      <td>...</td>\n",
       "      <td>...</td>\n",
       "    </tr>\n",
       "    <tr>\n",
       "      <th>19763</th>\n",
       "      <td>False</td>\n",
       "      <td>False</td>\n",
       "      <td>False</td>\n",
       "      <td>False</td>\n",
       "      <td>False</td>\n",
       "      <td>False</td>\n",
       "      <td>False</td>\n",
       "      <td>False</td>\n",
       "      <td>False</td>\n",
       "      <td>False</td>\n",
       "    </tr>\n",
       "    <tr>\n",
       "      <th>19764</th>\n",
       "      <td>False</td>\n",
       "      <td>False</td>\n",
       "      <td>False</td>\n",
       "      <td>False</td>\n",
       "      <td>False</td>\n",
       "      <td>False</td>\n",
       "      <td>False</td>\n",
       "      <td>False</td>\n",
       "      <td>False</td>\n",
       "      <td>False</td>\n",
       "    </tr>\n",
       "    <tr>\n",
       "      <th>19765</th>\n",
       "      <td>False</td>\n",
       "      <td>False</td>\n",
       "      <td>False</td>\n",
       "      <td>False</td>\n",
       "      <td>False</td>\n",
       "      <td>False</td>\n",
       "      <td>False</td>\n",
       "      <td>False</td>\n",
       "      <td>False</td>\n",
       "      <td>False</td>\n",
       "    </tr>\n",
       "    <tr>\n",
       "      <th>19766</th>\n",
       "      <td>False</td>\n",
       "      <td>False</td>\n",
       "      <td>False</td>\n",
       "      <td>False</td>\n",
       "      <td>False</td>\n",
       "      <td>False</td>\n",
       "      <td>False</td>\n",
       "      <td>False</td>\n",
       "      <td>False</td>\n",
       "      <td>False</td>\n",
       "    </tr>\n",
       "    <tr>\n",
       "      <th>19767</th>\n",
       "      <td>False</td>\n",
       "      <td>False</td>\n",
       "      <td>False</td>\n",
       "      <td>False</td>\n",
       "      <td>False</td>\n",
       "      <td>False</td>\n",
       "      <td>False</td>\n",
       "      <td>False</td>\n",
       "      <td>False</td>\n",
       "      <td>False</td>\n",
       "    </tr>\n",
       "  </tbody>\n",
       "</table>\n",
       "<p>18642 rows × 10 columns</p>\n",
       "</div>"
      ],
      "text/plain": [
       "       Дата/время  Trade ID    Тип  Валютная пара  Количество   Цена  Сумма  \\\n",
       "0           False     False  False          False       False  False  False   \n",
       "1           False     False  False          False       False  False  False   \n",
       "2           False     False  False          False       False  False  False   \n",
       "3           False     False  False          False       False  False  False   \n",
       "4           False     False  False          False       False  False  False   \n",
       "...           ...       ...    ...            ...         ...    ...    ...   \n",
       "19763       False     False  False          False       False  False  False   \n",
       "19764       False     False  False          False       False  False  False   \n",
       "19765       False     False  False          False       False  False  False   \n",
       "19766       False     False  False          False       False  False  False   \n",
       "19767       False     False  False          False       False  False  False   \n",
       "\n",
       "       Тип комиссии  Размер комиссии  Комиссия %  \n",
       "0             False            False       False  \n",
       "1             False            False       False  \n",
       "2             False            False       False  \n",
       "3             False            False       False  \n",
       "4             False            False       False  \n",
       "...             ...              ...         ...  \n",
       "19763         False            False       False  \n",
       "19764         False            False       False  \n",
       "19765         False            False       False  \n",
       "19766         False            False       False  \n",
       "19767         False            False       False  \n",
       "\n",
       "[18642 rows x 10 columns]"
      ]
     },
     "execution_count": 24,
     "metadata": {},
     "output_type": "execute_result"
    }
   ],
   "source": [
    "big_df.isna()"
   ]
  },
  {
   "cell_type": "code",
   "execution_count": 25,
   "id": "6c4264fe",
   "metadata": {},
   "outputs": [
    {
     "data": {
      "text/plain": [
       "Дата/время         0\n",
       "Trade ID           0\n",
       "Тип                0\n",
       "Валютная пара      0\n",
       "Количество         0\n",
       "Цена               0\n",
       "Сумма              0\n",
       "Тип комиссии       0\n",
       "Размер комиссии    0\n",
       "Комиссия %         0\n",
       "dtype: int64"
      ]
     },
     "execution_count": 25,
     "metadata": {},
     "output_type": "execute_result"
    }
   ],
   "source": [
    "big_df.isna().sum()"
   ]
  },
  {
   "cell_type": "markdown",
   "id": "c4b341c9",
   "metadata": {},
   "source": [
    "Пропусков значений нет"
   ]
  },
  {
   "cell_type": "markdown",
   "id": "1ee4b290",
   "metadata": {},
   "source": [
    "# Подготовка данных, форматирование столбцов: "
   ]
  },
  {
   "cell_type": "markdown",
   "id": "b6cd73f5",
   "metadata": {},
   "source": [
    "Тип данных object можно по возможности переводить в иные форматы, для того чтобы с датасетом можно было поработать через дополнительные алгоритмы. У нас имеется 5 таких столбцов. "
   ]
  },
  {
   "cell_type": "code",
   "execution_count": 40,
   "id": "9f844e6a",
   "metadata": {},
   "outputs": [
    {
     "name": "stdout",
     "output_type": "stream",
     "text": [
      "<class 'pandas.core.frame.DataFrame'>\n",
      "Int64Index: 19228 entries, 0 to 19767\n",
      "Data columns (total 17 columns):\n",
      " #   Column           Non-Null Count  Dtype         \n",
      "---  ------           --------------  -----         \n",
      " 0   Дата/время       19228 non-null  datetime64[ns]\n",
      " 1   Валютная пара    19228 non-null  object        \n",
      " 2   Количество       19228 non-null  float64       \n",
      " 3   Цена             19228 non-null  float64       \n",
      " 4   Сумма            19228 non-null  float64       \n",
      " 5   Размер комиссии  19228 non-null  float64       \n",
      " 6   buy              19228 non-null  uint8         \n",
      " 7   sell             19228 non-null  uint8         \n",
      " 8   maker            19228 non-null  uint8         \n",
      " 9   taker            19228 non-null  uint8         \n",
      " 10  0%               19228 non-null  uint8         \n",
      " 11  0.066666%        19228 non-null  uint8         \n",
      " 12  0.093333%        19228 non-null  uint8         \n",
      " 13  0.1%             19228 non-null  uint8         \n",
      " 14  0.2%             19228 non-null  uint8         \n",
      " 15  0.279999%        19228 non-null  uint8         \n",
      " 16  0.3%             19228 non-null  uint8         \n",
      "dtypes: datetime64[ns](1), float64(4), object(1), uint8(11)\n",
      "memory usage: 1.2+ MB\n"
     ]
    }
   ],
   "source": [
    "prep_data = prepare_data(big_df)\n",
    "prep_data.info()"
   ]
  },
  {
   "cell_type": "markdown",
   "id": "5413f5d7",
   "metadata": {},
   "source": [
    "использовав свою написанную функцию избавляемся от 4 ёх стобцов класса Object и получаем новый датасет, с изменёнными типами столбцов более удобный для дальнейшего машинного анализа"
   ]
  },
  {
   "cell_type": "markdown",
   "id": "1351cd41",
   "metadata": {},
   "source": [
    "Создадим вспомогательный признак typecomission и заполним его 0, если \"Тип комиссии\" maker  и 1, когда \"Тип комиссии\" taker"
   ]
  },
  {
   "cell_type": "code",
   "execution_count": 24,
   "id": "fb207e9c",
   "metadata": {},
   "outputs": [],
   "source": [
    "big_df['typecomission'] = 0\n",
    "big_df.loc[big_df['Тип комиссии'] == 'taker', 'typecomission'] = 1"
   ]
  },
  {
   "cell_type": "markdown",
   "id": "4ce76e3e",
   "metadata": {},
   "source": [
    "Создание демипеременных"
   ]
  },
  {
   "cell_type": "code",
   "execution_count": 25,
   "id": "794e79b8",
   "metadata": {},
   "outputs": [
    {
     "data": {
      "text/html": [
       "<div>\n",
       "<style scoped>\n",
       "    .dataframe tbody tr th:only-of-type {\n",
       "        vertical-align: middle;\n",
       "    }\n",
       "\n",
       "    .dataframe tbody tr th {\n",
       "        vertical-align: top;\n",
       "    }\n",
       "\n",
       "    .dataframe thead th {\n",
       "        text-align: right;\n",
       "    }\n",
       "</style>\n",
       "<table border=\"1\" class=\"dataframe\">\n",
       "  <thead>\n",
       "    <tr style=\"text-align: right;\">\n",
       "      <th></th>\n",
       "      <th>dtype_buy</th>\n",
       "      <th>dtype_sell</th>\n",
       "    </tr>\n",
       "  </thead>\n",
       "  <tbody>\n",
       "    <tr>\n",
       "      <th>19763</th>\n",
       "      <td>1</td>\n",
       "      <td>0</td>\n",
       "    </tr>\n",
       "    <tr>\n",
       "      <th>19764</th>\n",
       "      <td>1</td>\n",
       "      <td>0</td>\n",
       "    </tr>\n",
       "    <tr>\n",
       "      <th>19765</th>\n",
       "      <td>1</td>\n",
       "      <td>0</td>\n",
       "    </tr>\n",
       "    <tr>\n",
       "      <th>19766</th>\n",
       "      <td>1</td>\n",
       "      <td>0</td>\n",
       "    </tr>\n",
       "    <tr>\n",
       "      <th>19767</th>\n",
       "      <td>1</td>\n",
       "      <td>0</td>\n",
       "    </tr>\n",
       "  </tbody>\n",
       "</table>\n",
       "</div>"
      ],
      "text/plain": [
       "       dtype_buy  dtype_sell\n",
       "19763          1           0\n",
       "19764          1           0\n",
       "19765          1           0\n",
       "19766          1           0\n",
       "19767          1           0"
      ]
     },
     "execution_count": 25,
     "metadata": {},
     "output_type": "execute_result"
    }
   ],
   "source": [
    "pd.get_dummies(data=big_df.Тип, prefix='dtype').tail()"
   ]
  },
  {
   "cell_type": "code",
   "execution_count": 26,
   "id": "21126643",
   "metadata": {
    "scrolled": true
   },
   "outputs": [],
   "source": [
    "big_df = pd.concat([big_df, pd.get_dummies(big_df['Тип'])], axis=1)\n"
   ]
  },
  {
   "cell_type": "markdown",
   "id": "2e3f87f8",
   "metadata": {},
   "source": [
    "удаление колонок"
   ]
  },
  {
   "cell_type": "code",
   "execution_count": 30,
   "id": "8a2e7b06",
   "metadata": {},
   "outputs": [
    {
     "data": {
      "text/plain": [
       "Index(['Дата/время', 'Trade ID', 'Тип', 'Валютная пара', 'Количество', 'Цена',\n",
       "       'Сумма', 'Тип комиссии', 'Размер комиссии', 'Комиссия %',\n",
       "       'typecomission', 'buy', 'sell'],\n",
       "      dtype='object')"
      ]
     },
     "execution_count": 30,
     "metadata": {},
     "output_type": "execute_result"
    }
   ],
   "source": [
    "big_df.columns"
   ]
  },
  {
   "cell_type": "code",
   "execution_count": 31,
   "id": "c7a690c0",
   "metadata": {},
   "outputs": [],
   "source": [
    "big_df.drop(columns=['Trade ID', 'Тип комиссии'], inplace=True)"
   ]
  },
  {
   "cell_type": "markdown",
   "id": "4666e5af",
   "metadata": {},
   "source": [
    "# Создание новых таблиц:"
   ]
  },
  {
   "cell_type": "markdown",
   "id": "421778b7",
   "metadata": {},
   "source": [
    "##### сортировка по годам"
   ]
  },
  {
   "cell_type": "code",
   "execution_count": 37,
   "id": "d5ecac84",
   "metadata": {},
   "outputs": [],
   "source": [
    "df_2021 = big_df[big_df['Дата/время'].str.contains(\"2021\")]\n",
    "df_2022 = big_df[big_df['Дата/время'].str.contains(\"2022\")]\n",
    "df_2023 = big_df[big_df['Дата/время'].str.contains(\"2023\")]"
   ]
  },
  {
   "cell_type": "markdown",
   "id": "670879f1",
   "metadata": {},
   "source": [
    "##### сортировка по месяцам"
   ]
  },
  {
   "cell_type": "code",
   "execution_count": 38,
   "id": "cfb76e51",
   "metadata": {},
   "outputs": [],
   "source": [
    "df_jan_2021 = df_2021[df_2021['Дата/время'].str.contains(\".01.2021\")]\n",
    "df_feb_2021 = df_2021[df_2021['Дата/время'].str.contains(\".02.2021\")]\n",
    "df_mar_2021 = df_2021[df_2021['Дата/время'].str.contains(\".03.2021\")]\n",
    "df_apr_2021 = df_2021[df_2021['Дата/время'].str.contains(\".04.2021\")]\n",
    "df_may_2021 = df_2021[df_2021['Дата/время'].str.contains(\".05.2021\")]\n",
    "df_jun_2021 = df_2021[df_2021['Дата/время'].str.contains(\".06.2021\")]\n",
    "df_jul_2021 = df_2021[df_2021['Дата/время'].str.contains(\".07.2021\")]\n",
    "df_avg_2021 = df_2021[df_2021['Дата/время'].str.contains(\".08.2021\")]\n",
    "df_sep_2021 = df_2021[df_2021['Дата/время'].str.contains(\".09.2021\")]\n",
    "df_oct_2021 = df_2021[df_2021['Дата/время'].str.contains(\".10.2021\")]\n",
    "df_nov_2021 = df_2021[df_2021['Дата/время'].str.contains(\".11.2021\")]\n",
    "df_dec_2021 = df_2021[df_2021['Дата/время'].str.contains(\".12.2021\")]\n",
    "\n",
    "df_jan_2022 = df_2022[df_2022['Дата/время'].str.contains(\".01.2022\")]\n",
    "df_feb_2022 = df_2022[df_2022['Дата/время'].str.contains(\".02.2022\")]\n",
    "df_mar_2022 = df_2022[df_2022['Дата/время'].str.contains(\".03.2022\")]\n",
    "df_apr_2022 = df_2022[df_2022['Дата/время'].str.contains(\".04.2022\")]\n",
    "df_may_2022 = df_2022[df_2022['Дата/время'].str.contains(\".05.2022\")]\n",
    "df_jun_2022 = df_2022[df_2022['Дата/время'].str.contains(\".06.2022\")]\n",
    "df_jul_2022 = df_2022[df_2022['Дата/время'].str.contains(\".07.2022\")]\n",
    "df_avg_2022 = df_2022[df_2022['Дата/время'].str.contains(\".08.2022\")]\n",
    "df_sep_2022 = df_2022[df_2022['Дата/время'].str.contains(\".09.2022\")]\n",
    "df_oct_2022= df_2022[df_2022['Дата/время'].str.contains(\".10.2022\")]\n",
    "df_nov_2022 = df_2022[df_2022['Дата/время'].str.contains(\".11.2022\")]\n",
    "df_dec_2022 = df_2022[df_2022['Дата/время'].str.contains(\".12.2022\")]\n",
    "\n",
    "df_jan_2023 = df_2023[df_2023['Дата/время'].str.contains(\".01.2023\")]\n",
    "df_feb_2023 = df_2023[df_2023['Дата/время'].str.contains(\".02.2023\")]\n",
    "df_mar_2023 = df_2023[df_2023['Дата/время'].str.contains(\".03.2023\")]\n",
    "df_apr_2023 = df_2023[df_2023['Дата/время'].str.contains(\".04.2023\")]\n",
    "df_may_2023 = df_2023[df_2023['Дата/время'].str.contains(\".05.2023\")]\n",
    "df_jun_2023 = df_2023[df_2023['Дата/время'].str.contains(\".06.2023\")]\n",
    "df_jul_2023 = df_2023[df_2023['Дата/время'].str.contains(\".07.2023\")]\n",
    "df_avg_2023 = df_2023[df_2023['Дата/время'].str.contains(\".08.2023\")]\n",
    "df_sep_2023 = df_2023[df_2023['Дата/время'].str.contains(\".09.2023\")]\n",
    "df_oct_2023 = df_2023[df_2023['Дата/время'].str.contains(\".10.2023\")]\n",
    "df_nov_2023 = df_2021[df_2021['Дата/время'].str.contains(\".11.2023\")]\n",
    "df_dec_2023 = df_2023[df_2023['Дата/время'].str.contains(\".12.2023\")]\n",
    "\n"
   ]
  },
  {
   "cell_type": "code",
   "execution_count": null,
   "id": "df7b99fd",
   "metadata": {},
   "outputs": [],
   "source": []
  },
  {
   "cell_type": "code",
   "execution_count": null,
   "id": "d5b27533",
   "metadata": {},
   "outputs": [],
   "source": []
  },
  {
   "cell_type": "code",
   "execution_count": null,
   "id": "53abcdae",
   "metadata": {},
   "outputs": [],
   "source": []
  },
  {
   "cell_type": "code",
   "execution_count": null,
   "id": "69ef3786",
   "metadata": {},
   "outputs": [],
   "source": []
  },
  {
   "cell_type": "code",
   "execution_count": null,
   "id": "d2a56356",
   "metadata": {},
   "outputs": [],
   "source": []
  },
  {
   "cell_type": "code",
   "execution_count": null,
   "id": "cb1cf382",
   "metadata": {},
   "outputs": [],
   "source": []
  },
  {
   "cell_type": "code",
   "execution_count": null,
   "id": "e556a2a4",
   "metadata": {},
   "outputs": [],
   "source": []
  },
  {
   "cell_type": "code",
   "execution_count": null,
   "id": "ef565862",
   "metadata": {},
   "outputs": [],
   "source": []
  },
  {
   "cell_type": "code",
   "execution_count": null,
   "id": "5322ecb3",
   "metadata": {},
   "outputs": [],
   "source": []
  },
  {
   "cell_type": "code",
   "execution_count": null,
   "id": "4e45ab8a",
   "metadata": {},
   "outputs": [],
   "source": []
  },
  {
   "cell_type": "code",
   "execution_count": 39,
   "id": "7b51c6b5",
   "metadata": {},
   "outputs": [],
   "source": [
    "def prepare_data(dataframe):\n",
    "    prep_data = pd.concat([dataframe, pd.get_dummies(dataframe['Тип комиссии'])], axis=1)\n",
    "    prep_data.drop(columns=['Тип комиссии'], inplace=True)\n",
    "    prep_data = pd.concat([prep_data, pd.get_dummies(dataframe['Комиссия %'])], axis=1)\n",
    "    prep_data.drop(columns=['Комиссия %'], inplace=True)\n",
    "    prep_data.drop(columns=['Trade ID'], inplace=True)\n",
    "    prepare_data = to_datetime(prep_data)\n",
    "    return prepare_data\n",
    "\n",
    "pr_df = prepare_data(big_df)"
   ]
  },
  {
   "cell_type": "markdown",
   "id": "6905baa2",
   "metadata": {},
   "source": [
    "# Опрделяем целевую переменную. \n",
    "целевая переменная признак -`'Тип'`. У нас 2 возможных типа Buy и Sell.\n",
    "Убираем колонку целевой признак 'Тип'и сохроняем список всех оставшихся признаков в переменную base_feature_names"
   ]
  },
  {
   "cell_type": "code",
   "execution_count": 40,
   "id": "a08590cc",
   "metadata": {},
   "outputs": [],
   "source": [
    "target_name = 'Тип'\n",
    "base_feature_names = pr_df.columns.drop(target_name).tolist()\n",
    "new_feature_names = pr_df.columns.drop([target_name] + base_feature_names)"
   ]
  },
  {
   "cell_type": "code",
   "execution_count": 183,
   "id": "68995ca6",
   "metadata": {},
   "outputs": [
    {
     "data": {
      "text/plain": [
       "buy     10270\n",
       "sell     8958\n",
       "Name: Тип, dtype: int64"
      ]
     },
     "execution_count": 183,
     "metadata": {},
     "output_type": "execute_result"
    }
   ],
   "source": [
    "pr_df[target_name].value_counts()"
   ]
  },
  {
   "cell_type": "markdown",
   "id": "a9b45c81",
   "metadata": {},
   "source": [
    "##### Обзор распределения\n",
    "мы видим что данные достаточно сбалансированны. у нас 10270 buy и 8958 sell.\n",
    "\n",
    "отрисовка распределения целевой переменной для наглядности. "
   ]
  },
  {
   "cell_type": "code",
   "execution_count": 184,
   "id": "11d555ff",
   "metadata": {},
   "outputs": [
    {
     "data": {
      "image/png": "[encoded data removed]",
      "text/plain": [
       "<Figure size 576x360 with 1 Axes>"
      ]
     },
     "metadata": {
      "needs_background": "light"
     },
     "output_type": "display_data"
    }
   ],
   "source": [
    "visual_buy_sell(df_trx_rub)"
   ]
  },
  {
   "cell_type": "markdown",
   "id": "16a8e5e0",
   "metadata": {},
   "source": [
    "### Корреляция с базовыми признаками\n",
    "\n",
    "Gосмотрим как будут влиять (коллерировать) неосновные признаки с основным. Мы видим у нас наблюдается положительная корреляция (> 0). Сильнее всего корреляция выражена у признака `'Сумма'`. Признак `'maker'` коррелирует меньше.\n",
    "по счёту корреляции с целевым признаком практически не показывают  `'количество'`и `'Размер комиссии'`. \n",
    "Положительная корреляция у 5 признаков. Остальные 7 признаков с отрицательной корреляцией. Самая большая отрицательная корреляция у признака сумма кредита `'0.1%'`. Можем выявить группу признаков, которые коррелируют с целевой переменной. Скорее всего они будут наиболее значимыми."
   ]
  },
  {
   "cell_type": "code",
   "execution_count": 41,
   "id": "a7478522",
   "metadata": {},
   "outputs": [
    {
     "data": {
      "image/png": "[encoded data removed]",
      "text/plain": [
       "<Figure size 1440x720 with 1 Axes>"
      ]
     },
     "metadata": {
      "needs_background": "light"
     },
     "output_type": "display_data"
    }
   ],
   "source": [
    "corr_with_target = pr_df[base_feature_names + [target_name]].corr().iloc[:-1, -1].sort_values(ascending=False)\n",
    "                                                   \n",
    "plt.figure(figsize=(20, 10))\n",
    "\n",
    "sns.barplot(x=corr_with_target.values, y=corr_with_target.index)\n",
    "\n",
    "plt.title('Correlation with target variable')\n",
    "plt.show()"
   ]
  },
  {
   "cell_type": "markdown",
   "id": "bbc0e4a0",
   "metadata": {},
   "source": [
    "### Оценка признака \"maker\" в разрезе целевой переменной\n",
    "\n",
    "Рассмотрим не сильно коррелирующий с целевой переменной признак. Признак с положительной корреляцией \"maker\". Построим гистанраммы распределения по которой отложем категории этого признака и количество сделок первого и нулевого класса. (вторые 2 столба самые большие) -2 соответствует категории погашен полностью, 0 соответствует категори у которой платёж погашен частично. Мы видим что соотношение клиентов класса 0 и класса 1 для этого признака PAY_1 близки к распределению целевой переменной. Поэтому можно предположить, что эти призаки можно объединить в одну категорию. Но чтобы это было обоснованное объединение нужно это как то подтвердить. Один из вариантов как это подтвердить - провести статистический тест. т.к мы сравниваем частоты, у нас будут сравнения наблюдаемых, ожидаемых и формулируем нулевую гипотезу. Нулевая гипотеза: ожидаемые и наблюдаемые частоты согласованы. PAY_1 категориальная переменная. т.е мы смотрим карреляция между категориальным признаком , поэтому критерий используем Критерий: Хи-квадрат Пирсона. т.к не важно в какую сторону отклонение. Критическая область: двухсторонняя."
   ]
  },
  {
   "cell_type": "code",
   "execution_count": 187,
   "id": "279eff94",
   "metadata": {},
   "outputs": [
    {
     "data": {
      "image/png": "[encoded data removed]",
      "text/plain": [
       "<Figure size 720x576 with 1 Axes>"
      ]
     },
     "metadata": {
      "needs_background": "light"
     },
     "output_type": "display_data"
    }
   ],
   "source": [
    "plt.figure(figsize=(10, 8))\n",
    "\n",
    "sns.countplot(x='maker', hue=target_name, data=pr_df)\n",
    "plt.title('Maker grouped by target variable')\n",
    "plt.legend(title='Target', loc='upper right')\n",
    "\n",
    "plt.show()"
   ]
  },
  {
   "cell_type": "code",
   "execution_count": 149,
   "id": "1b83a46a",
   "metadata": {},
   "outputs": [
    {
     "name": "stdout",
     "output_type": "stream",
     "text": [
      "<class 'pandas.core.frame.DataFrame'>\n",
      "Int64Index: 19228 entries, 0 to 19767\n",
      "Data columns (total 16 columns):\n",
      " #   Column           Non-Null Count  Dtype         \n",
      "---  ------           --------------  -----         \n",
      " 0   Дата/время       19228 non-null  datetime64[ns]\n",
      " 1   Тип              19228 non-null  object        \n",
      " 2   Валютная пара    19228 non-null  object        \n",
      " 3   Количество       19228 non-null  float64       \n",
      " 4   Цена             19228 non-null  float64       \n",
      " 5   Сумма            19228 non-null  float64       \n",
      " 6   Размер комиссии  19228 non-null  float64       \n",
      " 7   maker            19228 non-null  uint8         \n",
      " 8   taker            19228 non-null  uint8         \n",
      " 9   0%               19228 non-null  uint8         \n",
      " 10  0.066666%        19228 non-null  uint8         \n",
      " 11  0.093333%        19228 non-null  uint8         \n",
      " 12  0.1%             19228 non-null  uint8         \n",
      " 13  0.2%             19228 non-null  uint8         \n",
      " 14  0.279999%        19228 non-null  uint8         \n",
      " 15  0.3%             19228 non-null  uint8         \n",
      "dtypes: datetime64[ns](1), float64(4), object(2), uint8(9)\n",
      "memory usage: 1.3+ MB\n"
     ]
    }
   ],
   "source": [
    "pr_df.info()"
   ]
  },
  {
   "cell_type": "code",
   "execution_count": null,
   "id": "0d7e26a4",
   "metadata": {},
   "outputs": [],
   "source": []
  },
  {
   "cell_type": "markdown",
   "id": "89ccd699",
   "metadata": {},
   "source": [
    "### Оценка признаков \"Количество\", \"Цена\", \"Сумма\" в разрезе целевой переменной\n",
    "\n",
    "посмотрим на числовой признак сумма предоставленного кредита \"Количество\", \"Цена\", \"Сумма\".\n",
    "Также генерируем подвыборку размером 1000 сделок."
   ]
  },
  {
   "cell_type": "code",
   "execution_count": 189,
   "id": "75385632",
   "metadata": {},
   "outputs": [
    {
     "data": {
      "image/png": "[encoded data removed]",
      "text/plain": [
       "<Figure size 720x576 with 1 Axes>"
      ]
     },
     "metadata": {
      "needs_background": "light"
     },
     "output_type": "display_data"
    }
   ],
   "source": [
    "limit_bal_with_target_s = pr_df[['Количество', target_name]].sample(1000)\n",
    "limit_bal_s = limit_bal_with_target_s['Количество']\n",
    "limit_bal_target_0 = limit_bal_s[limit_bal_with_target_s[target_name] == 'buy']\n",
    "limit_bal_target_1 = limit_bal_s[limit_bal_with_target_s[target_name] == 'sell']\n",
    "\n",
    "plt.figure(figsize=(10, 8))\n",
    "\n",
    "sns.kdeplot(limit_bal_target_0, shade=True, label='No default', color='g')\n",
    "sns.kdeplot(limit_bal_target_1, shade=True, label='Default', color='r')\n",
    "\n",
    "plt.xlabel('Количество')\n",
    "plt.title('Количество grouped by target variable')\n",
    "plt.show()"
   ]
  },
  {
   "cell_type": "code",
   "execution_count": 190,
   "id": "c9df3c94",
   "metadata": {},
   "outputs": [
    {
     "data": {
      "text/plain": [
       "ShapiroResult(statistic=0.06522297859191895, pvalue=0.0)"
      ]
     },
     "execution_count": 190,
     "metadata": {},
     "output_type": "execute_result"
    }
   ],
   "source": [
    "shapiro(limit_bal_s)"
   ]
  },
  {
   "cell_type": "code",
   "execution_count": 191,
   "id": "cd3026e9",
   "metadata": {},
   "outputs": [
    {
     "data": {
      "image/png": "[encoded data removed]",
      "text/plain": [
       "<Figure size 1440x576 with 2 Axes>"
      ]
     },
     "metadata": {
      "needs_background": "light"
     },
     "output_type": "display_data"
    }
   ],
   "source": [
    "plt.figure(figsize=(20, 8))\n",
    "\n",
    "ax1 = plt.subplot(121)\n",
    "ax1.set_xlabel('Количество')\n",
    "ax1.set_ylabel('Count')\n",
    "ax1.set_title('Количество distribution')\n",
    "limit_bal_s.hist()\n",
    "\n",
    "plt.subplot(122)\n",
    "probplot(limit_bal_s, dist='norm', plot=plt)\n",
    "\n",
    "plt.show()"
   ]
  },
  {
   "cell_type": "code",
   "execution_count": 196,
   "id": "62787bb9",
   "metadata": {},
   "outputs": [
    {
     "data": {
      "image/png": "[encoded data removed]",
      "text/plain": [
       "<Figure size 720x576 with 1 Axes>"
      ]
     },
     "metadata": {
      "needs_background": "light"
     },
     "output_type": "display_data"
    }
   ],
   "source": [
    "limit_bal_with_target_s = pr_df[['Цена', target_name]].sample(1000)\n",
    "limit_bal_s = limit_bal_with_target_s['Цена']\n",
    "limit_bal_target_0 = limit_bal_s[limit_bal_with_target_s[target_name] == 'buy']\n",
    "limit_bal_target_1 = limit_bal_s[limit_bal_with_target_s[target_name] == 'sell']\n",
    "\n",
    "plt.figure(figsize=(10, 8))\n",
    "\n",
    "sns.kdeplot(limit_bal_target_0, shade=True, label='No default', color='g')\n",
    "sns.kdeplot(limit_bal_target_1, shade=True, label='Default', color='r')\n",
    "\n",
    "plt.xlabel('Цена')\n",
    "plt.title('Цена grouped by target variable')\n",
    "plt.show()"
   ]
  },
  {
   "cell_type": "code",
   "execution_count": 197,
   "id": "1cd6ad7b",
   "metadata": {},
   "outputs": [
    {
     "data": {
      "text/plain": [
       "ShapiroResult(statistic=0.012062430381774902, pvalue=0.0)"
      ]
     },
     "execution_count": 197,
     "metadata": {},
     "output_type": "execute_result"
    }
   ],
   "source": [
    "shapiro(limit_bal_s)"
   ]
  },
  {
   "cell_type": "code",
   "execution_count": 198,
   "id": "7212660a",
   "metadata": {},
   "outputs": [
    {
     "data": {
      "image/png": "[encoded data removed]",
      "text/plain": [
       "<Figure size 1440x576 with 2 Axes>"
      ]
     },
     "metadata": {
      "needs_background": "light"
     },
     "output_type": "display_data"
    }
   ],
   "source": [
    "plt.figure(figsize=(20, 8))\n",
    "\n",
    "ax1 = plt.subplot(121)\n",
    "ax1.set_xlabel('Цена')\n",
    "ax1.set_ylabel('Count')\n",
    "ax1.set_title('Цена distribution')\n",
    "limit_bal_s.hist()\n",
    "\n",
    "plt.subplot(122)\n",
    "probplot(limit_bal_s, dist='norm', plot=plt)\n",
    "\n",
    "plt.show()"
   ]
  },
  {
   "cell_type": "code",
   "execution_count": 199,
   "id": "7dcbe1ba",
   "metadata": {},
   "outputs": [
    {
     "data": {
      "image/png": "[encoded data removed]",
      "text/plain": [
       "<Figure size 720x576 with 1 Axes>"
      ]
     },
     "metadata": {
      "needs_background": "light"
     },
     "output_type": "display_data"
    }
   ],
   "source": [
    "limit_bal_with_target_s = pr_df[['Сумма', target_name]].sample(1000)\n",
    "limit_bal_s = limit_bal_with_target_s['Сумма']\n",
    "limit_bal_target_0 = limit_bal_s[limit_bal_with_target_s[target_name] == 'buy']\n",
    "limit_bal_target_1 = limit_bal_s[limit_bal_with_target_s[target_name] == 'sell']\n",
    "\n",
    "plt.figure(figsize=(10, 8))\n",
    "\n",
    "sns.kdeplot(limit_bal_target_0, shade=True, label='No default', color='g')\n",
    "sns.kdeplot(limit_bal_target_1, shade=True, label='Default', color='r')\n",
    "\n",
    "plt.xlabel('Сумма')\n",
    "plt.title('Сумма grouped by target variable')\n",
    "plt.show()"
   ]
  },
  {
   "cell_type": "code",
   "execution_count": 200,
   "id": "27af0ed4",
   "metadata": {},
   "outputs": [
    {
     "data": {
      "text/plain": [
       "ShapiroResult(statistic=0.22853690385818481, pvalue=0.0)"
      ]
     },
     "execution_count": 200,
     "metadata": {},
     "output_type": "execute_result"
    }
   ],
   "source": [
    "shapiro(limit_bal_s)"
   ]
  },
  {
   "cell_type": "code",
   "execution_count": 201,
   "id": "913269cf",
   "metadata": {},
   "outputs": [
    {
     "data": {
      "image/png": "[encoded data removed]",
      "text/plain": [
       "<Figure size 1440x576 with 2 Axes>"
      ]
     },
     "metadata": {
      "needs_background": "light"
     },
     "output_type": "display_data"
    }
   ],
   "source": [
    "plt.figure(figsize=(20, 8))\n",
    "\n",
    "ax1 = plt.subplot(121)\n",
    "ax1.set_xlabel('Сумма')\n",
    "ax1.set_ylabel('Count')\n",
    "ax1.set_title('Сумма distribution')\n",
    "limit_bal_s.hist()\n",
    "\n",
    "plt.subplot(122)\n",
    "probplot(limit_bal_s, dist='norm', plot=plt)\n",
    "\n",
    "plt.show()"
   ]
  },
  {
   "cell_type": "markdown",
   "id": "1228a4ee",
   "metadata": {},
   "source": [
    "### Наблюдение\n",
    "\n",
    "Похоже что две группы, полученные в результате разбиения признака \"Количество\", \"Цена\", \"Сумма\"  по целевой переменной, имеют различные распределения, что может помочь при построение модели, т.к. это будет означать, что между признаком \"Количество\", \"Цена\", \"Сумма\"  и целевой переменной, возможно, существует некоторая функциональная зависимость.\n",
    "\n",
    "##### Гипотеза\n",
    "\n",
    "`Нулевая гипотеза:` средние значения в двух независимых выборках равны\n",
    "\n",
    "`Альтернативная гипотеза:` средние значения в двух независимых выборках различаются\n",
    "\n",
    "`Критерий:` критерий Стьюдента (t-тест) и его аналоги\n",
    "\n",
    "`Уровень значимости  𝛼:` 0.05\n",
    "\n",
    "`Критическая область:` двухсторонняя\n",
    "\n",
    "Что бы проверить данную гипотезу сравним две выборки из рассматриваемых групп на предмет равенства средних значений. Если вероятность того, что мат. ожидания в исходных группах равны, при данных выборках, буде менее 5%, то можно будет говорить о том, что скорее всего выборки имеют различные распределения.\n",
    "\n",
    "т.к критерий Стьюдента являтся параметрическим, то нам нужно проверить распределение признака на нормальность.\n",
    "\n",
    "Проверка распределения признака на \"нормальность\" с помощью критерия Шапиро-Уилка\n",
    "\n",
    "По полученному значению p-value, которое сильно меньше 0.05, можем заключить, что гипотеза о \"нормальности\" отвергается.\n",
    "\n",
    "Для достоверности произведём визуальную оценку распределения признака, а так же построим QQ-график\n",
    "\n",
    "По гистограмме видно что сильно скошено и совсем не похоже на нормальное. И по графику квантиль-квантиль мы видим что график не лежит на прямой x-y. Визуальная оценка подтверждает показания критерия Шапиро-Уилка по поводу того, что закон распределения отличный от \"нормального\", в связи с чем, мы не сможем воспользоваться критерием Стьюдента для проверки гипотезы о равности мат. ожиданий признака LIMIT_BAL в группах с просроченным и непросроченным платежом в следующем месяце, но мы сможем воспользоваться его непараметрическим аналогом - критерием Манна-Уитни, который не требователен к закону распределения, не является параметрическим.\n",
    "\n",
    "Оценим эквивалентность мат. ожадиний, в исследуемых группах, с помощью критерия Манна-Уитни"
   ]
  },
  {
   "cell_type": "markdown",
   "id": "1bc88143",
   "metadata": {},
   "source": [
    "### Обработка выбросов\n",
    "IQR - interquantil Range"
   ]
  },
  {
   "cell_type": "code",
   "execution_count": null,
   "id": "7ce56aad",
   "metadata": {},
   "outputs": [],
   "source": [
    "plt.boxplot(df[''])\n",
    "plt.title('Анализ выбросов для признака LIMIT_BAL ')"
   ]
  },
  {
   "cell_type": "code",
   "execution_count": null,
   "id": "86ec851a",
   "metadata": {},
   "outputs": [],
   "source": []
  },
  {
   "cell_type": "code",
   "execution_count": null,
   "id": "7de0bcd4",
   "metadata": {},
   "outputs": [],
   "source": []
  },
  {
   "cell_type": "code",
   "execution_count": null,
   "id": "bf2b51db",
   "metadata": {},
   "outputs": [],
   "source": []
  },
  {
   "cell_type": "code",
   "execution_count": null,
   "id": "dee5052d",
   "metadata": {},
   "outputs": [],
   "source": []
  },
  {
   "cell_type": "code",
   "execution_count": null,
   "id": "e74c81e6",
   "metadata": {},
   "outputs": [],
   "source": []
  },
  {
   "cell_type": "code",
   "execution_count": null,
   "id": "92077684",
   "metadata": {},
   "outputs": [],
   "source": []
  },
  {
   "cell_type": "code",
   "execution_count": null,
   "id": "955cbc12",
   "metadata": {},
   "outputs": [],
   "source": []
  },
  {
   "cell_type": "code",
   "execution_count": 37,
   "id": "8fa65511",
   "metadata": {},
   "outputs": [],
   "source": []
  },
  {
   "cell_type": "code",
   "execution_count": null,
   "id": "ced4df2b",
   "metadata": {},
   "outputs": [
    {
     "name": "stdout",
     "output_type": "stream",
     "text": [
      "Полное объединение датасетов. Дубликатов нет.\n",
      "Следует проверить последние и первые даты в датасетах\n",
      "возможно есть промежуточный датасет \n",
      "\n",
      "Произведён анализ временного периода торговли: с 14.04.2021 06:57 по 23.04.2023 16:15\n",
      "что составляет 739 days, 9:18:00\n",
      "\n",
      "Общее число сделок во всех торговых парах за проанализированный период времени: 19769 из них\n",
      "BUY сделки: 10570\n",
      "SELL сделки: 9199\n",
      "\n",
      "Общее число торговых пар в которых совершались сделки: 62\n",
      "Колличество сделок в каждой торговой паре:\n",
      "EXM_RUB      2430\n",
      "USDT_GBP     2104\n",
      "WXT_USDT     1428\n",
      "SMART_EUR    1254\n",
      "EXM_BTC      1208\n",
      "             ... \n",
      "ALGO_BTC        1\n",
      "BTC_USDX        1\n",
      "VITAE_BTC       1\n",
      "ONT_BTC         1\n",
      "BTC_RUB         1\n",
      "Name: Валютная пара, Length: 62, dtype: int64\n",
      "\n",
      "Сделки за 2021 год. Общее количество: 11822\n",
      "Январь 2021: 0\n",
      "Февраль 2021: 0\n",
      "Март 2021: 0\n",
      "Апрель 2021: 1257\n",
      "Май 2021: 1217\n",
      "Июнь 2021: 2345\n",
      "Июль 2021: 1283\n",
      "Август 2021: 1391\n",
      "Сентябрь 2021: 945\n",
      "Октябрь 2021: 1148\n",
      "Ноябрь 2021: 929\n",
      "Декабрь 2021: 1307\n",
      "\n",
      "Сделки за 2022 год. Общее количество: 6635\n",
      "Январь 2022: 1226\n",
      "Февраль 2022: 794\n",
      "Март 2022: 705\n",
      "Апрель 2022: 661\n",
      "Май 2022: 914\n",
      "Июнь 2022: 375\n",
      "Июль 2022: 188\n",
      "Август 2022: 295\n",
      "Сентябрь 2022: 126\n",
      "Октябрь 2022: 349\n",
      "Ноябрь 2022: 654\n",
      "Декабрь 2022: 348\n",
      "\n",
      "Сделки за 2023 год. Общее количество: 1312\n",
      "Январь 2023: 524\n",
      "Февраль 2023: 338\n",
      "Март 2023: 280\n",
      "Апрель 2023: 170\n",
      "Май 2023: 0\n",
      "Июнь 2023: 0\n",
      "Июль 2023: 0\n",
      "Август 2023: 0\n",
      "Сентябрь 2023: 0\n",
      "Октябрь 2023: 0\n",
      "Ноябрь 2023: 0\n",
      "Декабрь 2023: 0\n"
     ]
    }
   ],
   "source": [
    "import pandas as pd\n",
    "from scipy import stats\n",
    "import datetime\n",
    "import datetime\n",
    "import numpy as np\n",
    "import seaborn as sns\n",
    "import matplotlib.pyplot as plt\n",
    "import sys\n",
    "import warnings\n",
    "import datetime\n",
    "import pprint\n",
    "if not sys.warnoptions:\n",
    "    warnings.simplefilter(\"ignore\")\n",
    "\n",
    "# Функция для вывода всех торговых пар, которые нашлись в истории торгов\n",
    "# пары выводятся пронумированными\n",
    "def enumirated_pairs(dataframe):\n",
    "    all_pairs_list = dataframe['Валютная пара'].unique().tolist()\n",
    "    print(f'\\nОбщее число торговых пар в которых совершались сделки: {len(all_pairs_list)}')\n",
    "\n",
    "# функция выводит сообщение о временном периоде проанализированных данных\n",
    "# начало торгов - самая ранняя сделка в датафрейме\n",
    "# конец торгов - самая последняя сделка в датафрейме\n",
    "def time_period(dataframe):\n",
    "    all_dates = dataframe['Дата/время'].tolist()\n",
    "    start = all_dates[-1]\n",
    "    end = all_dates[0]\n",
    "    start_dtm = datetime.datetime.strptime(start, '%d.%m.%Y %H:%M')\n",
    "    end_dtm = datetime.datetime.strptime(end, '%d.%m.%Y %H:%M')\n",
    "    print(f'\\nПроизведён анализ временного периода торговли: с {start} по {end}'\n",
    "          f'\\nчто составляет {end_dtm - start_dtm}')\n",
    "\n",
    "# Объединение датасетов\n",
    "def big_dataset(dataframe_first, dataframe_last):\n",
    "    big_df = pd.concat([dataframe_first, dataframe_last], ignore_index=True)\n",
    "    big_df_uniq = big_df.drop_duplicates()\n",
    "    # что то сделать с индексами, т. к после дубликата их значения сбиваются\n",
    "    return big_df_uniq\n",
    "\n",
    "# Проверка при объединении датасетов на дубликаты\n",
    "def duplicates(dataframe_first, dataframe_last):\n",
    "    big_df = pd.concat([dataframe_first, dataframe_last], ignore_index=True).drop_duplicates()\n",
    "    if len(big_df) == len(dataframe_first) + len(dataframe_last):\n",
    "        print('Полное объединение датасетов. Дубликатов нет.\\n'\n",
    "              'Следует проверить последние и первые даты в датасетах\\n'\n",
    "              'возможно есть промежуточный датасет ')\n",
    "    else:\n",
    "        print('Объединение датасетов произошло. Число дубликатов:', len(dataframe_first) + len(dataframe_last) - len(big_df))\n",
    "\n",
    "\n",
    "# Переформатирование типа колонки время в дататайм формат\n",
    "def to_datetime(dataframe):\n",
    "    dataframe['Дата/время'] = pd.to_datetime(dataframe['Дата/время'], format='%d.%m.%Y %H:%M')\n",
    "    return dataframe\n",
    "\n",
    "# Общее число сделок\n",
    "# из них сделок BUY и SELL\n",
    "def trades_count(dataframe):\n",
    "    print(f'\\nОбщее число сделок во всех торговых парах за проанализированный период времени: {len(dataframe)} из них')\n",
    "    print('BUY сделки:', len(dataframe.loc[(dataframe['Тип'] == 'buy')]))\n",
    "    print('SELL сделки:', len(dataframe.loc[(dataframe['Тип'] == 'sell')]))\n",
    "\n",
    "def trades_count_pair(dataframe):\n",
    "    print(f'\\nОбщее число сделок в торговой паре за проанализированный период времени: {len(dataframe)} из них')\n",
    "    print('BUY сделки:', len(dataframe.loc[(dataframe['Тип'] == 'buy')]))\n",
    "    print('SELL сделки:', len(dataframe.loc[(dataframe['Тип'] == 'sell')]))\n",
    "\n",
    "# Визуализация данных по Buy и Sell\n",
    "def visual_buy_sell(dataframe):\n",
    "    g = sns.countplot(dataframe['Тип'])\n",
    "    g.set_xticklabels(['buy','sell'])\n",
    "    plt.show()\n",
    "\n",
    "# количество сделок в каждой торговой паре\n",
    "def curr_pair_trade_counts(dataframe):\n",
    "    print('Колличество сделок в каждой торговой паре:')\n",
    "    print(dataframe['Валютная пара'].value_counts())\n",
    "\n",
    "# Статистика\n",
    "\n",
    "def moda(dataframe):\n",
    "    print('\\nМОДА')\n",
    "    print('цена:', stats.mode(dataframe.Цена))  # scipy way\n",
    "    print('Количество:', stats.mode(dataframe.Количество))  # scipy way\n",
    "    print('Сумма:', stats.mode(dataframe.Сумма))\n",
    "\n",
    "def median(dataframe):\n",
    "    print('\\nМЕДИАНА')\n",
    "    print('цена:', dataframe.Цена.median())  # pandas way\n",
    "    print('Количество:', dataframe.Количество.median())\n",
    "    print('Сумма:', dataframe.Сумма.median())\n",
    "\n",
    "def middle(dataframe):\n",
    "    print('\\nСРЕДНЕЕ')\n",
    "    print('цена:', dataframe.Цена.mean())  # pandas way\n",
    "    print('Количество:', dataframe.Количество.mean())\n",
    "    print('Сумма:', dataframe.Сумма.mean())\n",
    "\n",
    "def maxmin(dataframe):\n",
    "    print('\\nМАКСИМУМ')\n",
    "    max = dataframe.Цена.max()\n",
    "    print('цена:', max)  # pandas way\n",
    "    print('\\nМИНИМУМ')\n",
    "    print('цена:', dataframe.Цена.min())  # pandas way\n",
    "\n",
    "# аналитика торговли (применять к одной торговой паре)\n",
    "def analitica(dataframe, current_pair):\n",
    "    current_pair_dataset_buy = dataframe.loc[(current_pair_dataset['Тип'] == 'buy')]\n",
    "    current_pair_dataset_sell = dataframe.loc[(current_pair_dataset['Тип'] == 'sell')]\n",
    "    currents_list = currents(current_pair)\n",
    "    print(f'\\nминимальная цена по которой покупали: {current_pair_dataset_buy.Цена.min()} '\n",
    "          f'{currents_list[1]}\\n'\n",
    "          f'максимальная цена по которой продавали: {current_pair_dataset_sell.Цена.max()} '\n",
    "          f'{currents_list[1]}\\n'\n",
    "          f'oбъём купленной валюты за весь период торгов: {current_pair_dataset_buy.Количество.sum()} '\n",
    "          f'{currents_list[0]}\\n'\n",
    "          f'oбъём проданной валюты за весь период торгов: {current_pair_dataset_sell.Количество.sum()} '\n",
    "          f'{currents_list[0]}\\n'\n",
    "          f'потрачено денег за весь период торгов: {current_pair_dataset_buy.Сумма.sum()} '\n",
    "          f'{currents_list[1]}\\n'\n",
    "          f'заработано денег за весь период торгов: {current_pair_dataset_sell.Сумма.sum()} '\n",
    "          f'{currents_list[1]}\\n\\n'\n",
    "          f'дельта максимальная цена - минимальная: {current_pair_dataset_sell.Цена.max() - current_pair_dataset_buy.Цена.min()} '\n",
    "          f'{currents_list[1]}\\n'\n",
    "          f'разница объёмов проданный - купленный: {current_pair_dataset_sell.Количество.sum() - current_pair_dataset_buy.Количество.sum()} '\n",
    "          f'{currents_list[0]}\\n'\n",
    "          f'коэфицент объёмов проданное/купленное: {round(current_pair_dataset_sell.Количество.sum()/current_pair_dataset_buy.Количество.sum(), 2)}\\n'\n",
    "          f'потраченныe деньги минус заработанные: {current_pair_dataset_sell.Сумма.sum() - current_pair_dataset_buy.Сумма.sum()} '\n",
    "          f'{currents_list[1]}\\n'\n",
    "          f'коэфицент потраченные/заработанные: {round(current_pair_dataset_sell.Сумма.sum()/current_pair_dataset_buy.Сумма.sum(), 2)}\\n')\n",
    "\n",
    "def currents(current_pair):\n",
    "    pair_list = current_pair.split('_')\n",
    "    return pair_list\n",
    "\n",
    "# Проверка на дисбаланс классов\n",
    "def dissbalance(dataframe):\n",
    "    # class count\n",
    "    class_count_0, class_count_1 = dataframe['Тип'].value_counts()\n",
    "\n",
    "    # Separate class\n",
    "    class_0 = dataframe[dataframe['Тип'] == 'buy']\n",
    "    class_1 = dataframe[dataframe['Тип'] == 'sell']# print the shape of the class\n",
    "    print('buy class 0:', class_0.shape)\n",
    "    print('sell class 1:', class_1.shape)\n",
    "\n",
    "# Изменение начального датасета, добавление демипеременных, избавление от типов object\n",
    "def prepare_data(dataframe):\n",
    "    prep_data = pd.concat([dataframe, pd.get_dummies(dataframe['Тип'])], axis=1)\n",
    "    prep_data.drop(columns=['Тип'], inplace=True)\n",
    "    prep_data = pd.concat([prep_data, pd.get_dummies(dataframe['Тип комиссии'])], axis=1)\n",
    "    prep_data.drop(columns=['Тип комиссии'], inplace=True)\n",
    "    prep_data = pd.concat([prep_data, pd.get_dummies(dataframe['Комиссия %'])], axis=1)\n",
    "    prep_data.drop(columns=['Комиссия %'], inplace=True)\n",
    "    prep_data.drop(columns=['Trade ID'], inplace=True)\n",
    "    prepare_data = to_datetime(prep_data)\n",
    "    return prepare_data\n",
    "    \n",
    "# Число сделок в день\n",
    "def per_day(dataframe):\n",
    "    new_vals = []\n",
    "    vals = dataframe['Дата/время'].values\n",
    "    for el in vals:\n",
    "        numb = el[0:2]\n",
    "        new_vals.append(numb)\n",
    "    dataframe['days'] = new_vals\n",
    "    dataframe['days'].value_counts()\n",
    "    return dataframe['days'].value_counts()\n",
    "\n",
    "#######################################\n",
    "\n",
    "# загружаю последнюю историю и самую раннюю скаченную историю торгов\n",
    "df = pd.read_csv('trade-history-2023-04-23.csv')\n",
    "df_first = pd.read_csv('trade-history-2021-11-07.csv')\n",
    "\n",
    "df_all_dates = big_dataset(df, df_first)\n",
    "\n",
    "duplicates(df, df_first)\n",
    "\n",
    "# сортировка по годам\n",
    "df_2021 = df_all_dates[df_all_dates['Дата/время'].str.contains(\"2021\")]\n",
    "df_2022 = df_all_dates[df_all_dates['Дата/время'].str.contains(\"2022\")]\n",
    "df_2023 = df_all_dates[df_all_dates['Дата/время'].str.contains(\"2023\")]\n",
    "\n",
    "# сортировка по месяцам\n",
    "df_jan_2021 = df_2021[df_2021['Дата/время'].str.contains(\".01.2021\")]\n",
    "df_feb_2021 = df_2021[df_2021['Дата/время'].str.contains(\".02.2021\")]\n",
    "df_mar_2021 = df_2021[df_2021['Дата/время'].str.contains(\".03.2021\")]\n",
    "df_apr_2021 = df_2021[df_2021['Дата/время'].str.contains(\".04.2021\")]\n",
    "df_may_2021 = df_2021[df_2021['Дата/время'].str.contains(\".05.2021\")]\n",
    "df_jun_2021 = df_2021[df_2021['Дата/время'].str.contains(\".06.2021\")]\n",
    "df_jul_2021 = df_2021[df_2021['Дата/время'].str.contains(\".07.2021\")]\n",
    "df_avg_2021 = df_2021[df_2021['Дата/время'].str.contains(\".08.2021\")]\n",
    "df_sep_2021 = df_2021[df_2021['Дата/время'].str.contains(\".09.2021\")]\n",
    "df_oct_2021 = df_2021[df_2021['Дата/время'].str.contains(\".10.2021\")]\n",
    "df_nov_2021 = df_2021[df_2021['Дата/время'].str.contains(\".11.2021\")]\n",
    "df_dec_2021 = df_2021[df_2021['Дата/время'].str.contains(\".12.2021\")]\n",
    "\n",
    "df_jan_2022 = df_2022[df_2022['Дата/время'].str.contains(\".01.2022\")]\n",
    "df_feb_2022 = df_2022[df_2022['Дата/время'].str.contains(\".02.2022\")]\n",
    "df_mar_2022 = df_2022[df_2022['Дата/время'].str.contains(\".03.2022\")]\n",
    "df_apr_2022 = df_2022[df_2022['Дата/время'].str.contains(\".04.2022\")]\n",
    "df_may_2022 = df_2022[df_2022['Дата/время'].str.contains(\".05.2022\")]\n",
    "df_jun_2022 = df_2022[df_2022['Дата/время'].str.contains(\".06.2022\")]\n",
    "df_jul_2022 = df_2022[df_2022['Дата/время'].str.contains(\".07.2022\")]\n",
    "df_avg_2022 = df_2022[df_2022['Дата/время'].str.contains(\".08.2022\")]\n",
    "df_sep_2022 = df_2022[df_2022['Дата/время'].str.contains(\".09.2022\")]\n",
    "df_oct_2022 = df_2022[df_2022['Дата/время'].str.contains(\".10.2022\")]\n",
    "df_nov_2022 = df_2022[df_2022['Дата/время'].str.contains(\".11.2022\")]\n",
    "df_dec_2022 = df_2022[df_2022['Дата/время'].str.contains(\".12.2022\")]\n",
    "\n",
    "df_jan_2023 = df_2023[df_2023['Дата/время'].str.contains(\".01.2023\")]\n",
    "df_feb_2023 = df_2023[df_2023['Дата/время'].str.contains(\".02.2023\")]\n",
    "df_mar_2023 = df_2023[df_2023['Дата/время'].str.contains(\".03.2023\")]\n",
    "df_apr_2023 = df_2023[df_2023['Дата/время'].str.contains(\".04.2023\")]\n",
    "df_may_2023 = df_2023[df_2023['Дата/время'].str.contains(\".05.2023\")]\n",
    "df_jun_2023 = df_2023[df_2023['Дата/время'].str.contains(\".06.2023\")]\n",
    "df_jul_2023 = df_2023[df_2023['Дата/время'].str.contains(\".07.2023\")]\n",
    "df_avg_2023 = df_2023[df_2023['Дата/время'].str.contains(\".08.2023\")]\n",
    "df_sep_2023 = df_2023[df_2023['Дата/время'].str.contains(\".09.2023\")]\n",
    "df_oct_2023 = df_2023[df_2023['Дата/время'].str.contains(\".10.2023\")]\n",
    "df_nov_2023 = df_2021[df_2021['Дата/время'].str.contains(\".11.2023\")]\n",
    "df_dec_2023 = df_2023[df_2023['Дата/время'].str.contains(\".12.2023\")]\n",
    "\n",
    "\n",
    "# time_period(df_all_dates)\n",
    "# trades_count(df_all_dates)\n",
    "# enumirated_pairs(df_all_dates)\n",
    "# curr_pair_trade_counts(df_all_dates)\n",
    "\n",
    "time_period(df_all_dates)\n",
    "trades_count(df_all_dates)\n",
    "enumirated_pairs(df_all_dates)\n",
    "curr_pair_trade_counts(df_all_dates)\n",
    "\n",
    "\n",
    "print(f'\\nСделки за 2021 год. Общее количество: {len(df_2021)}'\n",
    "      f'\\nЯнварь 2021: {len(df_jan_2021)}'\n",
    "      f'\\nФевраль 2021: {len(df_feb_2021)}'\n",
    "      f'\\nМарт 2021: {len(df_mar_2021)}'\n",
    "      f'\\nАпрель 2021: {len(df_apr_2021)}'\n",
    "      f'\\nМай 2021: {len(df_may_2021)}'\n",
    "      f'\\nИюнь 2021: {len(df_jun_2021)}'\n",
    "      f'\\nИюль 2021: {len(df_jul_2021)}'\n",
    "      f'\\nАвгуст 2021: {len(df_avg_2021)}'\n",
    "      f'\\nСентябрь 2021: {len(df_sep_2021)}'\n",
    "      f'\\nОктябрь 2021: {len(df_oct_2021)}'\n",
    "      f'\\nНоябрь 2021: {len(df_nov_2021)}'\n",
    "      f'\\nДекабрь 2021: {len(df_dec_2021)}')\n",
    "\n",
    "print(f'\\nСделки за 2022 год. Общее количество: {len(df_2022)}'\n",
    "      f'\\nЯнварь 2022: {len(df_jan_2022)}'\n",
    "      f'\\nФевраль 2022: {len(df_feb_2022)}'\n",
    "      f'\\nМарт 2022: {len(df_mar_2022)}'\n",
    "      f'\\nАпрель 2022: {len(df_apr_2022)}'\n",
    "      f'\\nМай 2022: {len(df_may_2022)}'\n",
    "      f'\\nИюнь 2022: {len(df_jun_2022)}'\n",
    "      f'\\nИюль 2022: {len(df_jul_2022)}'\n",
    "      f'\\nАвгуст 2022: {len(df_avg_2022)}'\n",
    "      f'\\nСентябрь 2022: {len(df_sep_2022)}'\n",
    "      f'\\nОктябрь 2022: {len(df_oct_2022)}'\n",
    "      f'\\nНоябрь 2022: {len(df_nov_2022)}'\n",
    "      f'\\nДекабрь 2022: {len(df_dec_2022)}')\n",
    "\n",
    "print(f'\\nСделки за 2023 год. Общее количество: {len(df_2023)}'\n",
    "      f'\\nЯнварь 2023: {len(df_jan_2023)}'\n",
    "      f'\\nФевраль 2023: {len(df_feb_2023)}'\n",
    "      f'\\nМарт 2023: {len(df_mar_2023)}'\n",
    "      f'\\nАпрель 2023: {len(df_apr_2023)}'\n",
    "      f'\\nМай 2023: {len(df_may_2023)}'\n",
    "      f'\\nИюнь 2023: {len(df_jun_2023)}'\n",
    "      f'\\nИюль 2023: {len(df_jul_2023)}'\n",
    "      f'\\nАвгуст 2023: {len(df_avg_2023)}'\n",
    "      f'\\nСентябрь 2023: {len(df_sep_2023)}'\n",
    "      f'\\nОктябрь 2023: {len(df_oct_2023)}'\n",
    "      f'\\nНоябрь 2023: {len(df_nov_2023)}'\n",
    "      f'\\nДекабрь 2023: {len(df_dec_2023)}')\n",
    "\n",
    "current_pair = input('\\nВведите/выбирете название торговой пары для которой будет произведён анализ: ')\n",
    "print(50 * '_')\n",
    "\n",
    "# сортировка по имени торговой пары\n",
    "current_pair_dataset = df_all_dates.loc[(df_all_dates['Валютная пара'] == current_pair)]\n",
    "\n",
    "time_period(current_pair_dataset)\n",
    "trades_count_pair(current_pair_dataset)\n",
    "analitica(current_pair_dataset, current_pair)\n",
    "moda(current_pair_dataset)\n",
    "maxmin(current_pair_dataset)\n",
    "middle(current_pair_dataset)\n",
    "median(current_pair_dataset)\n",
    "\n",
    "#####################################\n",
    "time_period(df_2023)\n",
    "trades_count(df_2023)\n",
    "enumirated_pairs(df_2023)\n",
    "curr_pair_trade_counts(df_2023)\n",
    "current_pair = input('\\nВведите/выбирете название торговой пары для которой будет произведён анализ: ')\n",
    "print(50 * '_')\n",
    "current_pair_dataset = df_all_dates.loc[(df_all_dates['Валютная пара'] == current_pair)]\n",
    "time_period(current_pair_dataset)\n",
    "trades_count_pair(current_pair_dataset)\n",
    "analitica(current_pair_dataset, current_pair)\n",
    "moda(current_pair_dataset)\n",
    "maxmin(current_pair_dataset)\n",
    "middle(current_pair_dataset)\n",
    "median(current_pair_dataset)\n",
    "########################################"
   ]
  },
  {
   "cell_type": "code",
   "execution_count": 45,
   "id": "32c1f3af",
   "metadata": {},
   "outputs": [
    {
     "data": {
      "text/plain": [
       "['Дата/время',\n",
       " 'Trade ID',\n",
       " 'Тип',\n",
       " 'Валютная пара',\n",
       " 'Количество',\n",
       " 'Цена',\n",
       " 'Сумма',\n",
       " 'Тип комиссии',\n",
       " 'Размер комиссии',\n",
       " 'Комиссия %']"
      ]
     },
     "execution_count": 45,
     "metadata": {},
     "output_type": "execute_result"
    }
   ],
   "source": [
    "columns = list(big_df.columns)\n",
    "columns"
   ]
  },
  {
   "cell_type": "code",
   "execution_count": 54,
   "id": "6c6ecd42",
   "metadata": {},
   "outputs": [
    {
     "data": {
      "text/plain": [
       "Text(0.5, 1.0, 'Анализ выбросов для признака Сумма')"
      ]
     },
     "execution_count": 54,
     "metadata": {},
     "output_type": "execute_result"
    },
    {
     "data": {
      "image/png": "[encoded data removed]",
      "text/plain": [
       "<Figure size 432x288 with 1 Axes>"
      ]
     },
     "metadata": {
      "needs_background": "light"
     },
     "output_type": "display_data"
    }
   ],
   "source": [
    "plt.boxplot(df_cur_pair['Сумма'])\n",
    "plt.title('Анализ выбросов для признака Сумма')"
   ]
  },
  {
   "cell_type": "code",
   "execution_count": 53,
   "id": "bdc27c2b",
   "metadata": {},
   "outputs": [
    {
     "data": {
      "text/plain": [
       "Text(0.5, 1.0, 'Анализ выбросов для признака Количество')"
      ]
     },
     "execution_count": 53,
     "metadata": {},
     "output_type": "execute_result"
    },
    {
     "data": {
      "image/png": "[encoded data removed]",
      "text/plain": [
       "<Figure size 432x288 with 1 Axes>"
      ]
     },
     "metadata": {
      "needs_background": "light"
     },
     "output_type": "display_data"
    }
   ],
   "source": [
    "plt.boxplot(df_cur_pair['Количество'])\n",
    "plt.title('Анализ выбросов для признака Количество')"
   ]
  },
  {
   "cell_type": "code",
   "execution_count": 52,
   "id": "714c2f6a",
   "metadata": {},
   "outputs": [
    {
     "data": {
      "text/plain": [
       "Text(0.5, 1.0, 'Анализ выбросов для признака Дата/время')"
      ]
     },
     "execution_count": 52,
     "metadata": {},
     "output_type": "execute_result"
    },
    {
     "data": {
      "image/png": "[encoded data removed]",
      "text/plain": [
       "<Figure size 432x288 with 1 Axes>"
      ]
     },
     "metadata": {
      "needs_background": "light"
     },
     "output_type": "display_data"
    }
   ],
   "source": [
    "plt.boxplot(df_cur_pair['Trade ID'])\n",
    "plt.title('Анализ выбросов для признака Trade ID')"
   ]
  },
  {
   "cell_type": "code",
   "execution_count": 50,
   "id": "08dbf36a",
   "metadata": {},
   "outputs": [
    {
     "ename": "TypeError",
     "evalue": "ufunc 'true_divide' not supported for the input types, and the inputs could not be safely coerced to any supported types according to the casting rule ''safe''",
     "output_type": "error",
     "traceback": [
      "\u001b[1;31m---------------------------------------------------------------------------\u001b[0m",
      "\u001b[1;31mTypeError\u001b[0m                                 Traceback (most recent call last)",
      "Input \u001b[1;32mIn [50]\u001b[0m, in \u001b[0;36m<cell line: 1>\u001b[1;34m()\u001b[0m\n\u001b[0;32m      1\u001b[0m \u001b[38;5;28;01mfor\u001b[39;00m el \u001b[38;5;129;01min\u001b[39;00m columns:\n\u001b[1;32m----> 2\u001b[0m     plt\u001b[38;5;241m.\u001b[39mboxplot(df_cur_pair[el])\n\u001b[0;32m      3\u001b[0m     plt\u001b[38;5;241m.\u001b[39mtitle(\u001b[38;5;124mf\u001b[39m\u001b[38;5;124m'\u001b[39m\u001b[38;5;124mАнализ выбросов для признака \u001b[39m\u001b[38;5;132;01m{\u001b[39;00mel\u001b[38;5;132;01m}\u001b[39;00m\u001b[38;5;124m'\u001b[39m)\n",
      "File \u001b[1;32mc:\\users\\777\\appdata\\local\\programs\\python\\python38\\lib\\site-packages\\matplotlib\\pyplot.py:2428\u001b[0m, in \u001b[0;36mboxplot\u001b[1;34m(x, notch, sym, vert, whis, positions, widths, patch_artist, bootstrap, usermedians, conf_intervals, meanline, showmeans, showcaps, showbox, showfliers, boxprops, labels, flierprops, medianprops, meanprops, capprops, whiskerprops, manage_ticks, autorange, zorder, data)\u001b[0m\n\u001b[0;32m   2418\u001b[0m \u001b[38;5;129m@_copy_docstring_and_deprecators\u001b[39m(Axes\u001b[38;5;241m.\u001b[39mboxplot)\n\u001b[0;32m   2419\u001b[0m \u001b[38;5;28;01mdef\u001b[39;00m \u001b[38;5;21mboxplot\u001b[39m(\n\u001b[0;32m   2420\u001b[0m         x, notch\u001b[38;5;241m=\u001b[39m\u001b[38;5;28;01mNone\u001b[39;00m, sym\u001b[38;5;241m=\u001b[39m\u001b[38;5;28;01mNone\u001b[39;00m, vert\u001b[38;5;241m=\u001b[39m\u001b[38;5;28;01mNone\u001b[39;00m, whis\u001b[38;5;241m=\u001b[39m\u001b[38;5;28;01mNone\u001b[39;00m,\n\u001b[1;32m   (...)\u001b[0m\n\u001b[0;32m   2426\u001b[0m         whiskerprops\u001b[38;5;241m=\u001b[39m\u001b[38;5;28;01mNone\u001b[39;00m, manage_ticks\u001b[38;5;241m=\u001b[39m\u001b[38;5;28;01mTrue\u001b[39;00m, autorange\u001b[38;5;241m=\u001b[39m\u001b[38;5;28;01mFalse\u001b[39;00m,\n\u001b[0;32m   2427\u001b[0m         zorder\u001b[38;5;241m=\u001b[39m\u001b[38;5;28;01mNone\u001b[39;00m, \u001b[38;5;241m*\u001b[39m, data\u001b[38;5;241m=\u001b[39m\u001b[38;5;28;01mNone\u001b[39;00m):\n\u001b[1;32m-> 2428\u001b[0m     \u001b[38;5;28;01mreturn\u001b[39;00m \u001b[43mgca\u001b[49m\u001b[43m(\u001b[49m\u001b[43m)\u001b[49m\u001b[38;5;241;43m.\u001b[39;49m\u001b[43mboxplot\u001b[49m\u001b[43m(\u001b[49m\n\u001b[0;32m   2429\u001b[0m \u001b[43m        \u001b[49m\u001b[43mx\u001b[49m\u001b[43m,\u001b[49m\u001b[43m \u001b[49m\u001b[43mnotch\u001b[49m\u001b[38;5;241;43m=\u001b[39;49m\u001b[43mnotch\u001b[49m\u001b[43m,\u001b[49m\u001b[43m \u001b[49m\u001b[43msym\u001b[49m\u001b[38;5;241;43m=\u001b[39;49m\u001b[43msym\u001b[49m\u001b[43m,\u001b[49m\u001b[43m \u001b[49m\u001b[43mvert\u001b[49m\u001b[38;5;241;43m=\u001b[39;49m\u001b[43mvert\u001b[49m\u001b[43m,\u001b[49m\u001b[43m \u001b[49m\u001b[43mwhis\u001b[49m\u001b[38;5;241;43m=\u001b[39;49m\u001b[43mwhis\u001b[49m\u001b[43m,\u001b[49m\n\u001b[0;32m   2430\u001b[0m \u001b[43m        \u001b[49m\u001b[43mpositions\u001b[49m\u001b[38;5;241;43m=\u001b[39;49m\u001b[43mpositions\u001b[49m\u001b[43m,\u001b[49m\u001b[43m \u001b[49m\u001b[43mwidths\u001b[49m\u001b[38;5;241;43m=\u001b[39;49m\u001b[43mwidths\u001b[49m\u001b[43m,\u001b[49m\u001b[43m \u001b[49m\u001b[43mpatch_artist\u001b[49m\u001b[38;5;241;43m=\u001b[39;49m\u001b[43mpatch_artist\u001b[49m\u001b[43m,\u001b[49m\n\u001b[0;32m   2431\u001b[0m \u001b[43m        \u001b[49m\u001b[43mbootstrap\u001b[49m\u001b[38;5;241;43m=\u001b[39;49m\u001b[43mbootstrap\u001b[49m\u001b[43m,\u001b[49m\u001b[43m \u001b[49m\u001b[43musermedians\u001b[49m\u001b[38;5;241;43m=\u001b[39;49m\u001b[43musermedians\u001b[49m\u001b[43m,\u001b[49m\n\u001b[0;32m   2432\u001b[0m \u001b[43m        \u001b[49m\u001b[43mconf_intervals\u001b[49m\u001b[38;5;241;43m=\u001b[39;49m\u001b[43mconf_intervals\u001b[49m\u001b[43m,\u001b[49m\u001b[43m \u001b[49m\u001b[43mmeanline\u001b[49m\u001b[38;5;241;43m=\u001b[39;49m\u001b[43mmeanline\u001b[49m\u001b[43m,\u001b[49m\n\u001b[0;32m   2433\u001b[0m \u001b[43m        \u001b[49m\u001b[43mshowmeans\u001b[49m\u001b[38;5;241;43m=\u001b[39;49m\u001b[43mshowmeans\u001b[49m\u001b[43m,\u001b[49m\u001b[43m \u001b[49m\u001b[43mshowcaps\u001b[49m\u001b[38;5;241;43m=\u001b[39;49m\u001b[43mshowcaps\u001b[49m\u001b[43m,\u001b[49m\u001b[43m \u001b[49m\u001b[43mshowbox\u001b[49m\u001b[38;5;241;43m=\u001b[39;49m\u001b[43mshowbox\u001b[49m\u001b[43m,\u001b[49m\n\u001b[0;32m   2434\u001b[0m \u001b[43m        \u001b[49m\u001b[43mshowfliers\u001b[49m\u001b[38;5;241;43m=\u001b[39;49m\u001b[43mshowfliers\u001b[49m\u001b[43m,\u001b[49m\u001b[43m \u001b[49m\u001b[43mboxprops\u001b[49m\u001b[38;5;241;43m=\u001b[39;49m\u001b[43mboxprops\u001b[49m\u001b[43m,\u001b[49m\u001b[43m \u001b[49m\u001b[43mlabels\u001b[49m\u001b[38;5;241;43m=\u001b[39;49m\u001b[43mlabels\u001b[49m\u001b[43m,\u001b[49m\n\u001b[0;32m   2435\u001b[0m \u001b[43m        \u001b[49m\u001b[43mflierprops\u001b[49m\u001b[38;5;241;43m=\u001b[39;49m\u001b[43mflierprops\u001b[49m\u001b[43m,\u001b[49m\u001b[43m \u001b[49m\u001b[43mmedianprops\u001b[49m\u001b[38;5;241;43m=\u001b[39;49m\u001b[43mmedianprops\u001b[49m\u001b[43m,\u001b[49m\n\u001b[0;32m   2436\u001b[0m \u001b[43m        \u001b[49m\u001b[43mmeanprops\u001b[49m\u001b[38;5;241;43m=\u001b[39;49m\u001b[43mmeanprops\u001b[49m\u001b[43m,\u001b[49m\u001b[43m \u001b[49m\u001b[43mcapprops\u001b[49m\u001b[38;5;241;43m=\u001b[39;49m\u001b[43mcapprops\u001b[49m\u001b[43m,\u001b[49m\n\u001b[0;32m   2437\u001b[0m \u001b[43m        \u001b[49m\u001b[43mwhiskerprops\u001b[49m\u001b[38;5;241;43m=\u001b[39;49m\u001b[43mwhiskerprops\u001b[49m\u001b[43m,\u001b[49m\u001b[43m \u001b[49m\u001b[43mmanage_ticks\u001b[49m\u001b[38;5;241;43m=\u001b[39;49m\u001b[43mmanage_ticks\u001b[49m\u001b[43m,\u001b[49m\n\u001b[0;32m   2438\u001b[0m \u001b[43m        \u001b[49m\u001b[43mautorange\u001b[49m\u001b[38;5;241;43m=\u001b[39;49m\u001b[43mautorange\u001b[49m\u001b[43m,\u001b[49m\u001b[43m \u001b[49m\u001b[43mzorder\u001b[49m\u001b[38;5;241;43m=\u001b[39;49m\u001b[43mzorder\u001b[49m\u001b[43m,\u001b[49m\n\u001b[0;32m   2439\u001b[0m \u001b[43m        \u001b[49m\u001b[38;5;241;43m*\u001b[39;49m\u001b[38;5;241;43m*\u001b[39;49m\u001b[43m(\u001b[49m\u001b[43m{\u001b[49m\u001b[38;5;124;43m\"\u001b[39;49m\u001b[38;5;124;43mdata\u001b[39;49m\u001b[38;5;124;43m\"\u001b[39;49m\u001b[43m:\u001b[49m\u001b[43m \u001b[49m\u001b[43mdata\u001b[49m\u001b[43m}\u001b[49m\u001b[43m \u001b[49m\u001b[38;5;28;43;01mif\u001b[39;49;00m\u001b[43m \u001b[49m\u001b[43mdata\u001b[49m\u001b[43m \u001b[49m\u001b[38;5;129;43;01mis\u001b[39;49;00m\u001b[43m \u001b[49m\u001b[38;5;129;43;01mnot\u001b[39;49;00m\u001b[43m \u001b[49m\u001b[38;5;28;43;01mNone\u001b[39;49;00m\u001b[43m \u001b[49m\u001b[38;5;28;43;01melse\u001b[39;49;00m\u001b[43m \u001b[49m\u001b[43m{\u001b[49m\u001b[43m}\u001b[49m\u001b[43m)\u001b[49m\u001b[43m)\u001b[49m\n",
      "File \u001b[1;32mc:\\users\\777\\appdata\\local\\programs\\python\\python38\\lib\\site-packages\\matplotlib\\__init__.py:1412\u001b[0m, in \u001b[0;36m_preprocess_data.<locals>.inner\u001b[1;34m(ax, data, *args, **kwargs)\u001b[0m\n\u001b[0;32m   1409\u001b[0m \u001b[38;5;129m@functools\u001b[39m\u001b[38;5;241m.\u001b[39mwraps(func)\n\u001b[0;32m   1410\u001b[0m \u001b[38;5;28;01mdef\u001b[39;00m \u001b[38;5;21minner\u001b[39m(ax, \u001b[38;5;241m*\u001b[39margs, data\u001b[38;5;241m=\u001b[39m\u001b[38;5;28;01mNone\u001b[39;00m, \u001b[38;5;241m*\u001b[39m\u001b[38;5;241m*\u001b[39mkwargs):\n\u001b[0;32m   1411\u001b[0m     \u001b[38;5;28;01mif\u001b[39;00m data \u001b[38;5;129;01mis\u001b[39;00m \u001b[38;5;28;01mNone\u001b[39;00m:\n\u001b[1;32m-> 1412\u001b[0m         \u001b[38;5;28;01mreturn\u001b[39;00m \u001b[43mfunc\u001b[49m\u001b[43m(\u001b[49m\u001b[43max\u001b[49m\u001b[43m,\u001b[49m\u001b[43m \u001b[49m\u001b[38;5;241;43m*\u001b[39;49m\u001b[38;5;28;43mmap\u001b[39;49m\u001b[43m(\u001b[49m\u001b[43msanitize_sequence\u001b[49m\u001b[43m,\u001b[49m\u001b[43m \u001b[49m\u001b[43margs\u001b[49m\u001b[43m)\u001b[49m\u001b[43m,\u001b[49m\u001b[43m \u001b[49m\u001b[38;5;241;43m*\u001b[39;49m\u001b[38;5;241;43m*\u001b[39;49m\u001b[43mkwargs\u001b[49m\u001b[43m)\u001b[49m\n\u001b[0;32m   1414\u001b[0m     bound \u001b[38;5;241m=\u001b[39m new_sig\u001b[38;5;241m.\u001b[39mbind(ax, \u001b[38;5;241m*\u001b[39margs, \u001b[38;5;241m*\u001b[39m\u001b[38;5;241m*\u001b[39mkwargs)\n\u001b[0;32m   1415\u001b[0m     auto_label \u001b[38;5;241m=\u001b[39m (bound\u001b[38;5;241m.\u001b[39marguments\u001b[38;5;241m.\u001b[39mget(label_namer)\n\u001b[0;32m   1416\u001b[0m                   \u001b[38;5;129;01mor\u001b[39;00m bound\u001b[38;5;241m.\u001b[39mkwargs\u001b[38;5;241m.\u001b[39mget(label_namer))\n",
      "File \u001b[1;32mc:\\users\\777\\appdata\\local\\programs\\python\\python38\\lib\\site-packages\\matplotlib\\axes\\_axes.py:3711\u001b[0m, in \u001b[0;36mAxes.boxplot\u001b[1;34m(self, x, notch, sym, vert, whis, positions, widths, patch_artist, bootstrap, usermedians, conf_intervals, meanline, showmeans, showcaps, showbox, showfliers, boxprops, labels, flierprops, medianprops, meanprops, capprops, whiskerprops, manage_ticks, autorange, zorder)\u001b[0m\n\u001b[0;32m   3708\u001b[0m \u001b[38;5;28;01mif\u001b[39;00m bootstrap \u001b[38;5;129;01mis\u001b[39;00m \u001b[38;5;28;01mNone\u001b[39;00m:\n\u001b[0;32m   3709\u001b[0m     bootstrap \u001b[38;5;241m=\u001b[39m rcParams[\u001b[38;5;124m'\u001b[39m\u001b[38;5;124mboxplot.bootstrap\u001b[39m\u001b[38;5;124m'\u001b[39m]\n\u001b[1;32m-> 3711\u001b[0m bxpstats \u001b[38;5;241m=\u001b[39m \u001b[43mcbook\u001b[49m\u001b[38;5;241;43m.\u001b[39;49m\u001b[43mboxplot_stats\u001b[49m\u001b[43m(\u001b[49m\u001b[43mx\u001b[49m\u001b[43m,\u001b[49m\u001b[43m \u001b[49m\u001b[43mwhis\u001b[49m\u001b[38;5;241;43m=\u001b[39;49m\u001b[43mwhis\u001b[49m\u001b[43m,\u001b[49m\u001b[43m \u001b[49m\u001b[43mbootstrap\u001b[49m\u001b[38;5;241;43m=\u001b[39;49m\u001b[43mbootstrap\u001b[49m\u001b[43m,\u001b[49m\n\u001b[0;32m   3712\u001b[0m \u001b[43m                               \u001b[49m\u001b[43mlabels\u001b[49m\u001b[38;5;241;43m=\u001b[39;49m\u001b[43mlabels\u001b[49m\u001b[43m,\u001b[49m\u001b[43m \u001b[49m\u001b[43mautorange\u001b[49m\u001b[38;5;241;43m=\u001b[39;49m\u001b[43mautorange\u001b[49m\u001b[43m)\u001b[49m\n\u001b[0;32m   3713\u001b[0m \u001b[38;5;28;01mif\u001b[39;00m notch \u001b[38;5;129;01mis\u001b[39;00m \u001b[38;5;28;01mNone\u001b[39;00m:\n\u001b[0;32m   3714\u001b[0m     notch \u001b[38;5;241m=\u001b[39m rcParams[\u001b[38;5;124m'\u001b[39m\u001b[38;5;124mboxplot.notch\u001b[39m\u001b[38;5;124m'\u001b[39m]\n",
      "File \u001b[1;32mc:\\users\\777\\appdata\\local\\programs\\python\\python38\\lib\\site-packages\\matplotlib\\cbook\\__init__.py:1195\u001b[0m, in \u001b[0;36mboxplot_stats\u001b[1;34m(X, whis, bootstrap, labels, autorange)\u001b[0m\n\u001b[0;32m   1192\u001b[0m x \u001b[38;5;241m=\u001b[39m np\u001b[38;5;241m.\u001b[39masarray(x)\n\u001b[0;32m   1194\u001b[0m \u001b[38;5;66;03m# arithmetic mean\u001b[39;00m\n\u001b[1;32m-> 1195\u001b[0m stats[\u001b[38;5;124m'\u001b[39m\u001b[38;5;124mmean\u001b[39m\u001b[38;5;124m'\u001b[39m] \u001b[38;5;241m=\u001b[39m \u001b[43mnp\u001b[49m\u001b[38;5;241;43m.\u001b[39;49m\u001b[43mmean\u001b[49m\u001b[43m(\u001b[49m\u001b[43mx\u001b[49m\u001b[43m)\u001b[49m\n\u001b[0;32m   1197\u001b[0m \u001b[38;5;66;03m# medians and quartiles\u001b[39;00m\n\u001b[0;32m   1198\u001b[0m q1, med, q3 \u001b[38;5;241m=\u001b[39m np\u001b[38;5;241m.\u001b[39mpercentile(x, [\u001b[38;5;241m25\u001b[39m, \u001b[38;5;241m50\u001b[39m, \u001b[38;5;241m75\u001b[39m])\n",
      "File \u001b[1;32m<__array_function__ internals>:180\u001b[0m, in \u001b[0;36mmean\u001b[1;34m(*args, **kwargs)\u001b[0m\n",
      "File \u001b[1;32mc:\\users\\777\\appdata\\local\\programs\\python\\python38\\lib\\site-packages\\numpy\\core\\fromnumeric.py:3474\u001b[0m, in \u001b[0;36mmean\u001b[1;34m(a, axis, dtype, out, keepdims, where)\u001b[0m\n\u001b[0;32m   3471\u001b[0m     \u001b[38;5;28;01melse\u001b[39;00m:\n\u001b[0;32m   3472\u001b[0m         \u001b[38;5;28;01mreturn\u001b[39;00m mean(axis\u001b[38;5;241m=\u001b[39maxis, dtype\u001b[38;5;241m=\u001b[39mdtype, out\u001b[38;5;241m=\u001b[39mout, \u001b[38;5;241m*\u001b[39m\u001b[38;5;241m*\u001b[39mkwargs)\n\u001b[1;32m-> 3474\u001b[0m \u001b[38;5;28;01mreturn\u001b[39;00m \u001b[43m_methods\u001b[49m\u001b[38;5;241;43m.\u001b[39;49m\u001b[43m_mean\u001b[49m\u001b[43m(\u001b[49m\u001b[43ma\u001b[49m\u001b[43m,\u001b[49m\u001b[43m \u001b[49m\u001b[43maxis\u001b[49m\u001b[38;5;241;43m=\u001b[39;49m\u001b[43maxis\u001b[49m\u001b[43m,\u001b[49m\u001b[43m \u001b[49m\u001b[43mdtype\u001b[49m\u001b[38;5;241;43m=\u001b[39;49m\u001b[43mdtype\u001b[49m\u001b[43m,\u001b[49m\n\u001b[0;32m   3475\u001b[0m \u001b[43m                      \u001b[49m\u001b[43mout\u001b[49m\u001b[38;5;241;43m=\u001b[39;49m\u001b[43mout\u001b[49m\u001b[43m,\u001b[49m\u001b[43m \u001b[49m\u001b[38;5;241;43m*\u001b[39;49m\u001b[38;5;241;43m*\u001b[39;49m\u001b[43mkwargs\u001b[49m\u001b[43m)\u001b[49m\n",
      "File \u001b[1;32mc:\\users\\777\\appdata\\local\\programs\\python\\python38\\lib\\site-packages\\numpy\\core\\_methods.py:191\u001b[0m, in \u001b[0;36m_mean\u001b[1;34m(a, axis, dtype, out, keepdims, where)\u001b[0m\n\u001b[0;32m    189\u001b[0m         ret \u001b[38;5;241m=\u001b[39m ret\u001b[38;5;241m.\u001b[39mdtype\u001b[38;5;241m.\u001b[39mtype(ret \u001b[38;5;241m/\u001b[39m rcount)\n\u001b[0;32m    190\u001b[0m \u001b[38;5;28;01melse\u001b[39;00m:\n\u001b[1;32m--> 191\u001b[0m     ret \u001b[38;5;241m=\u001b[39m \u001b[43mret\u001b[49m\u001b[43m \u001b[49m\u001b[38;5;241;43m/\u001b[39;49m\u001b[43m \u001b[49m\u001b[43mrcount\u001b[49m\n\u001b[0;32m    193\u001b[0m \u001b[38;5;28;01mreturn\u001b[39;00m ret\n",
      "\u001b[1;31mTypeError\u001b[0m: ufunc 'true_divide' not supported for the input types, and the inputs could not be safely coerced to any supported types according to the casting rule ''safe''"
     ]
    },
    {
     "data": {
      "image/png": "[encoded data removed]",
      "text/plain": [
       "<Figure size 432x288 with 1 Axes>"
      ]
     },
     "metadata": {
      "needs_background": "light"
     },
     "output_type": "display_data"
    }
   ],
   "source": [
    "for el in columns:\n",
    "    plt.boxplot(df_cur_pair[el])\n",
    "    plt.title(f'Анализ выбросов для признака Дата\\')"
   ]
  },
  {
   "cell_type": "code",
   "execution_count": 48,
   "id": "8204c4ad",
   "metadata": {},
   "outputs": [
    {
     "data": {
      "text/plain": [
       "Text(0.5, 1.0, 'Анализ выбросов для признака Цена ')"
      ]
     },
     "execution_count": 48,
     "metadata": {},
     "output_type": "execute_result"
    },
    {
     "data": {
      "image/png": "[encoded data removed]",
      "text/plain": [
       "<Figure size 432x288 with 1 Axes>"
      ]
     },
     "metadata": {
      "needs_background": "light"
     },
     "output_type": "display_data"
    }
   ],
   "source": [
    "plt.boxplot(big_df['Цена'])\n",
    "plt.title('Анализ выбросов для признака Цена ')"
   ]
  },
  {
   "cell_type": "code",
   "execution_count": 49,
   "id": "de038812",
   "metadata": {},
   "outputs": [
    {
     "data": {
      "text/plain": [
       "Text(0.5, 1.0, 'Анализ выбросов для признака Цена ')"
      ]
     },
     "execution_count": 49,
     "metadata": {},
     "output_type": "execute_result"
    },
    {
     "data": {
      "image/png": "[encoded data removed]",
      "text/plain": [
       "<Figure size 432x288 with 1 Axes>"
      ]
     },
     "metadata": {
      "needs_background": "light"
     },
     "output_type": "display_data"
    }
   ],
   "source": [
    "plt.boxplot(df_cur_pair['Цена'])\n",
    "plt.title('Анализ выбросов для признака Цена ')"
   ]
  },
  {
   "cell_type": "markdown",
   "id": "8f15f54e",
   "metadata": {},
   "source": [
    "### Вывод квантилей для одного свойства"
   ]
  },
  {
   "cell_type": "code",
   "execution_count": 56,
   "id": "138795aa",
   "metadata": {},
   "outputs": [
    {
     "data": {
      "text/plain": [
       "0.10    0.0009\n",
       "0.25    0.0016\n",
       "0.50    0.0020\n",
       "0.75    0.0024\n",
       "0.90    0.0038\n",
       "Name: Цена, dtype: float64"
      ]
     },
     "execution_count": 56,
     "metadata": {},
     "output_type": "execute_result"
    }
   ],
   "source": [
    "df_cur_pair['Цена'].quantile([0.1, 0.25, 0.5, 0.75, 0.9])"
   ]
  },
  {
   "cell_type": "markdown",
   "id": "210e5e21",
   "metadata": {},
   "source": [
    "### Построение новых признаков"
   ]
  },
  {
   "cell_type": "code",
   "execution_count": 59,
   "id": "b3fb6d1f",
   "metadata": {},
   "outputs": [
    {
     "ename": "AttributeError",
     "evalue": "'Int64Index' object has no attribute 'range'",
     "output_type": "error",
     "traceback": [
      "\u001b[1;31m---------------------------------------------------------------------------\u001b[0m",
      "\u001b[1;31mAttributeError\u001b[0m                            Traceback (most recent call last)",
      "Input \u001b[1;32mIn [59]\u001b[0m, in \u001b[0;36m<cell line: 1>\u001b[1;34m()\u001b[0m\n\u001b[1;32m----> 1\u001b[0m df_cur_pair[\u001b[38;5;124m'\u001b[39m\u001b[38;5;124mID\u001b[39m\u001b[38;5;124m'\u001b[39m] \u001b[38;5;241m=\u001b[39m df_cur_pair\u001b[38;5;241m.\u001b[39mindex\u001b[38;5;241m.\u001b[39mrange(\u001b[38;5;241m0\u001b[39m, \u001b[38;5;28mlen\u001b[39m(df_cur_pair))\n",
      "\u001b[1;31mAttributeError\u001b[0m: 'Int64Index' object has no attribute 'range'"
     ]
    }
   ],
   "source": [
    "df_cur_pair['ID'] = df_cur_pair.index.tolist()"
   ]
  },
  {
   "cell_type": "code",
   "execution_count": 58,
   "id": "5eb77893",
   "metadata": {},
   "outputs": [
    {
     "data": {
      "text/html": [
       "<div>\n",
       "<style scoped>\n",
       "    .dataframe tbody tr th:only-of-type {\n",
       "        vertical-align: middle;\n",
       "    }\n",
       "\n",
       "    .dataframe tbody tr th {\n",
       "        vertical-align: top;\n",
       "    }\n",
       "\n",
       "    .dataframe thead th {\n",
       "        text-align: right;\n",
       "    }\n",
       "</style>\n",
       "<table border=\"1\" class=\"dataframe\">\n",
       "  <thead>\n",
       "    <tr style=\"text-align: right;\">\n",
       "      <th></th>\n",
       "      <th>Дата/время</th>\n",
       "      <th>Trade ID</th>\n",
       "      <th>Тип</th>\n",
       "      <th>Валютная пара</th>\n",
       "      <th>Количество</th>\n",
       "      <th>Цена</th>\n",
       "      <th>Сумма</th>\n",
       "      <th>Тип комиссии</th>\n",
       "      <th>Размер комиссии</th>\n",
       "      <th>Комиссия %</th>\n",
       "      <th>days</th>\n",
       "      <th>ID</th>\n",
       "    </tr>\n",
       "  </thead>\n",
       "  <tbody>\n",
       "    <tr>\n",
       "      <th>149</th>\n",
       "      <td>20.01.2023 20:16</td>\n",
       "      <td>450506353</td>\n",
       "      <td>sell</td>\n",
       "      <td>SHIB_RUB</td>\n",
       "      <td>4.341111e+05</td>\n",
       "      <td>0.0009</td>\n",
       "      <td>390.699981</td>\n",
       "      <td>maker</td>\n",
       "      <td>1.172100</td>\n",
       "      <td>0.3%</td>\n",
       "      <td>20</td>\n",
       "      <td>149</td>\n",
       "    </tr>\n",
       "    <tr>\n",
       "      <th>158</th>\n",
       "      <td>19.01.2023 17:00</td>\n",
       "      <td>450227083</td>\n",
       "      <td>sell</td>\n",
       "      <td>SHIB_RUB</td>\n",
       "      <td>2.157764e+04</td>\n",
       "      <td>0.0009</td>\n",
       "      <td>19.419872</td>\n",
       "      <td>maker</td>\n",
       "      <td>0.058260</td>\n",
       "      <td>0.3%</td>\n",
       "      <td>19</td>\n",
       "      <td>158</td>\n",
       "    </tr>\n",
       "    <tr>\n",
       "      <th>159</th>\n",
       "      <td>19.01.2023 16:57</td>\n",
       "      <td>450226559</td>\n",
       "      <td>sell</td>\n",
       "      <td>SHIB_RUB</td>\n",
       "      <td>9.443113e+05</td>\n",
       "      <td>0.0009</td>\n",
       "      <td>849.880147</td>\n",
       "      <td>maker</td>\n",
       "      <td>2.549640</td>\n",
       "      <td>0.3%</td>\n",
       "      <td>19</td>\n",
       "      <td>159</td>\n",
       "    </tr>\n",
       "    <tr>\n",
       "      <th>177</th>\n",
       "      <td>19.01.2023 05:49</td>\n",
       "      <td>450111989</td>\n",
       "      <td>buy</td>\n",
       "      <td>SHIB_RUB</td>\n",
       "      <td>1.442148e+06</td>\n",
       "      <td>0.0008</td>\n",
       "      <td>1153.718776</td>\n",
       "      <td>maker</td>\n",
       "      <td>4326.445411</td>\n",
       "      <td>0.3%</td>\n",
       "      <td>19</td>\n",
       "      <td>177</td>\n",
       "    </tr>\n",
       "    <tr>\n",
       "      <th>209</th>\n",
       "      <td>18.01.2023 11:42</td>\n",
       "      <td>449917856</td>\n",
       "      <td>sell</td>\n",
       "      <td>SHIB_RUB</td>\n",
       "      <td>1.433444e+04</td>\n",
       "      <td>0.0009</td>\n",
       "      <td>12.900997</td>\n",
       "      <td>maker</td>\n",
       "      <td>0.038703</td>\n",
       "      <td>0.3%</td>\n",
       "      <td>18</td>\n",
       "      <td>209</td>\n",
       "    </tr>\n",
       "    <tr>\n",
       "      <th>...</th>\n",
       "      <td>...</td>\n",
       "      <td>...</td>\n",
       "      <td>...</td>\n",
       "      <td>...</td>\n",
       "      <td>...</td>\n",
       "      <td>...</td>\n",
       "      <td>...</td>\n",
       "      <td>...</td>\n",
       "      <td>...</td>\n",
       "      <td>...</td>\n",
       "      <td>...</td>\n",
       "      <td>...</td>\n",
       "    </tr>\n",
       "    <tr>\n",
       "      <th>9085</th>\n",
       "      <td>18.11.2021 15:04</td>\n",
       "      <td>332211289</td>\n",
       "      <td>buy</td>\n",
       "      <td>SHIB_RUB</td>\n",
       "      <td>1.250000e+05</td>\n",
       "      <td>0.0040</td>\n",
       "      <td>500.000000</td>\n",
       "      <td>maker</td>\n",
       "      <td>0.000000</td>\n",
       "      <td>0%</td>\n",
       "      <td>18</td>\n",
       "      <td>9085</td>\n",
       "    </tr>\n",
       "    <tr>\n",
       "      <th>9086</th>\n",
       "      <td>18.11.2021 15:04</td>\n",
       "      <td>332211281</td>\n",
       "      <td>buy</td>\n",
       "      <td>SHIB_RUB</td>\n",
       "      <td>1.423875e+05</td>\n",
       "      <td>0.0052</td>\n",
       "      <td>740.414903</td>\n",
       "      <td>taker</td>\n",
       "      <td>0.000000</td>\n",
       "      <td>0%</td>\n",
       "      <td>18</td>\n",
       "      <td>9086</td>\n",
       "    </tr>\n",
       "    <tr>\n",
       "      <th>9087</th>\n",
       "      <td>18.11.2021 15:04</td>\n",
       "      <td>332211280</td>\n",
       "      <td>buy</td>\n",
       "      <td>SHIB_RUB</td>\n",
       "      <td>1.085462e+05</td>\n",
       "      <td>0.0050</td>\n",
       "      <td>542.730899</td>\n",
       "      <td>taker</td>\n",
       "      <td>0.000000</td>\n",
       "      <td>0%</td>\n",
       "      <td>18</td>\n",
       "      <td>9087</td>\n",
       "    </tr>\n",
       "    <tr>\n",
       "      <th>9088</th>\n",
       "      <td>18.11.2021 15:04</td>\n",
       "      <td>332211256</td>\n",
       "      <td>buy</td>\n",
       "      <td>SHIB_RUB</td>\n",
       "      <td>1.114358e+04</td>\n",
       "      <td>0.0050</td>\n",
       "      <td>55.717912</td>\n",
       "      <td>maker</td>\n",
       "      <td>0.000000</td>\n",
       "      <td>0%</td>\n",
       "      <td>18</td>\n",
       "      <td>9088</td>\n",
       "    </tr>\n",
       "    <tr>\n",
       "      <th>9089</th>\n",
       "      <td>18.11.2021 15:04</td>\n",
       "      <td>332211255</td>\n",
       "      <td>buy</td>\n",
       "      <td>SHIB_RUB</td>\n",
       "      <td>8.885642e+04</td>\n",
       "      <td>0.0050</td>\n",
       "      <td>444.282088</td>\n",
       "      <td>maker</td>\n",
       "      <td>0.000000</td>\n",
       "      <td>0%</td>\n",
       "      <td>18</td>\n",
       "      <td>9089</td>\n",
       "    </tr>\n",
       "  </tbody>\n",
       "</table>\n",
       "<p>862 rows × 12 columns</p>\n",
       "</div>"
      ],
      "text/plain": [
       "            Дата/время   Trade ID   Тип Валютная пара    Количество    Цена  \\\n",
       "149   20.01.2023 20:16  450506353  sell      SHIB_RUB  4.341111e+05  0.0009   \n",
       "158   19.01.2023 17:00  450227083  sell      SHIB_RUB  2.157764e+04  0.0009   \n",
       "159   19.01.2023 16:57  450226559  sell      SHIB_RUB  9.443113e+05  0.0009   \n",
       "177   19.01.2023 05:49  450111989   buy      SHIB_RUB  1.442148e+06  0.0008   \n",
       "209   18.01.2023 11:42  449917856  sell      SHIB_RUB  1.433444e+04  0.0009   \n",
       "...                ...        ...   ...           ...           ...     ...   \n",
       "9085  18.11.2021 15:04  332211289   buy      SHIB_RUB  1.250000e+05  0.0040   \n",
       "9086  18.11.2021 15:04  332211281   buy      SHIB_RUB  1.423875e+05  0.0052   \n",
       "9087  18.11.2021 15:04  332211280   buy      SHIB_RUB  1.085462e+05  0.0050   \n",
       "9088  18.11.2021 15:04  332211256   buy      SHIB_RUB  1.114358e+04  0.0050   \n",
       "9089  18.11.2021 15:04  332211255   buy      SHIB_RUB  8.885642e+04  0.0050   \n",
       "\n",
       "            Сумма Тип комиссии  Размер комиссии Комиссия % days    ID  \n",
       "149    390.699981        maker         1.172100       0.3%   20   149  \n",
       "158     19.419872        maker         0.058260       0.3%   19   158  \n",
       "159    849.880147        maker         2.549640       0.3%   19   159  \n",
       "177   1153.718776        maker      4326.445411       0.3%   19   177  \n",
       "209     12.900997        maker         0.038703       0.3%   18   209  \n",
       "...           ...          ...              ...        ...  ...   ...  \n",
       "9085   500.000000        maker         0.000000         0%   18  9085  \n",
       "9086   740.414903        taker         0.000000         0%   18  9086  \n",
       "9087   542.730899        taker         0.000000         0%   18  9087  \n",
       "9088    55.717912        maker         0.000000         0%   18  9088  \n",
       "9089   444.282088        maker         0.000000         0%   18  9089  \n",
       "\n",
       "[862 rows x 12 columns]"
      ]
     },
     "execution_count": 58,
     "metadata": {},
     "output_type": "execute_result"
    }
   ],
   "source": [
    "df_cur_pair"
   ]
  },
  {
   "cell_type": "code",
   "execution_count": null,
   "id": "98ae3c24",
   "metadata": {},
   "outputs": [],
   "source": []
  }
 ],
 "metadata": {
  "kernelspec": {
   "display_name": "Python 3 (ipykernel)",
   "language": "python",
   "name": "python3"
  },
  "language_info": {
   "codemirror_mode": {
    "name": "ipython",
    "version": 3
   },
   "file_extension": ".py",
   "mimetype": "text/x-python",
   "name": "python",
   "nbconvert_exporter": "python",
   "pygments_lexer": "ipython3",
   "version": "3.8.8"
  }
 },
 "nbformat": 4,
 "nbformat_minor": 5
}
